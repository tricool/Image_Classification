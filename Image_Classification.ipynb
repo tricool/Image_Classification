{
  "nbformat": 4,
  "nbformat_minor": 0,
  "metadata": {
    "colab": {
      "name": "Image_Classification.ipynb",
      "provenance": [],
      "collapsed_sections": [],
      "authorship_tag": "ABX9TyOYnlTGNkEJ0KUrMDRLpIf1",
      "include_colab_link": true
    },
    "kernelspec": {
      "display_name": "Python 3",
      "name": "python3"
    },
    "language_info": {
      "name": "python"
    }
  },
  "cells": [
    {
      "cell_type": "markdown",
      "metadata": {
        "id": "view-in-github",
        "colab_type": "text"
      },
      "source": [
        "<a href=\"https://colab.research.google.com/github/tricool/Image_Classification/blob/main/Image_Classification.ipynb\" target=\"_parent\"><img src=\"https://colab.research.google.com/assets/colab-badge.svg\" alt=\"Open In Colab\"/></a>"
      ]
    },
    {
      "cell_type": "code",
      "metadata": {
        "colab": {
          "base_uri": "https://localhost:8080/"
        },
        "id": "O4O3BSUK9jrf",
        "outputId": "85c194d0-4ebd-4030-833d-29a5e0079c5b"
      },
      "source": [
        "#Data:Images\n",
        "#Downloading manually images from Google\n",
        "#Downloading dataset from kaggle.com\n",
        "#Building a Image Web Crawler\n",
        "#Using Python libraries to scrape the images"
      ],
      "execution_count": null,
      "outputs": [
        {
          "output_type": "stream",
          "text": [
            "time: 1.18 ms (started: 2021-04-23 07:38:35 +00:00)\n"
          ],
          "name": "stdout"
        }
      ]
    },
    {
      "cell_type": "code",
      "metadata": {
        "colab": {
          "base_uri": "https://localhost:8080/"
        },
        "id": "xQcCKYCDVrSm",
        "outputId": "c3ae1416-8a93-4b0e-9ff6-0b89fa8daaa5"
      },
      "source": [
        "!pip install ipython-autotime\n",
        "%load_ext autotime"
      ],
      "execution_count": null,
      "outputs": [
        {
          "output_type": "stream",
          "text": [
            "Requirement already satisfied: ipython-autotime in /usr/local/lib/python3.7/dist-packages (0.3.1)\n",
            "Requirement already satisfied: ipython in /usr/local/lib/python3.7/dist-packages (from ipython-autotime) (5.5.0)\n",
            "Requirement already satisfied: simplegeneric>0.8 in /usr/local/lib/python3.7/dist-packages (from ipython->ipython-autotime) (0.8.1)\n",
            "Requirement already satisfied: pickleshare in /usr/local/lib/python3.7/dist-packages (from ipython->ipython-autotime) (0.7.5)\n",
            "Requirement already satisfied: setuptools>=18.5 in /usr/local/lib/python3.7/dist-packages (from ipython->ipython-autotime) (56.0.0)\n",
            "Requirement already satisfied: prompt-toolkit<2.0.0,>=1.0.4 in /usr/local/lib/python3.7/dist-packages (from ipython->ipython-autotime) (1.0.18)\n",
            "Requirement already satisfied: pexpect; sys_platform != \"win32\" in /usr/local/lib/python3.7/dist-packages (from ipython->ipython-autotime) (4.8.0)\n",
            "Requirement already satisfied: pygments in /usr/local/lib/python3.7/dist-packages (from ipython->ipython-autotime) (2.6.1)\n",
            "Requirement already satisfied: traitlets>=4.2 in /usr/local/lib/python3.7/dist-packages (from ipython->ipython-autotime) (5.0.5)\n",
            "Requirement already satisfied: decorator in /usr/local/lib/python3.7/dist-packages (from ipython->ipython-autotime) (4.4.2)\n",
            "Requirement already satisfied: wcwidth in /usr/local/lib/python3.7/dist-packages (from prompt-toolkit<2.0.0,>=1.0.4->ipython->ipython-autotime) (0.2.5)\n",
            "Requirement already satisfied: six>=1.9.0 in /usr/local/lib/python3.7/dist-packages (from prompt-toolkit<2.0.0,>=1.0.4->ipython->ipython-autotime) (1.15.0)\n",
            "Requirement already satisfied: ptyprocess>=0.5 in /usr/local/lib/python3.7/dist-packages (from pexpect; sys_platform != \"win32\"->ipython->ipython-autotime) (0.7.0)\n",
            "Requirement already satisfied: ipython-genutils in /usr/local/lib/python3.7/dist-packages (from traitlets>=4.2->ipython->ipython-autotime) (0.2.0)\n",
            "The autotime extension is already loaded. To reload it, use:\n",
            "  %reload_ext autotime\n",
            "time: 2.85 s (started: 2021-04-23 07:38:36 +00:00)\n"
          ],
          "name": "stdout"
        }
      ]
    },
    {
      "cell_type": "code",
      "metadata": {
        "colab": {
          "base_uri": "https://localhost:8080/"
        },
        "id": "qM5icZFWAH2a",
        "outputId": "323f4842-b3f6-4cc7-f976-d8c4f55b3dc8"
      },
      "source": [
        "!pip install bing-image-downloader\n"
      ],
      "execution_count": null,
      "outputs": [
        {
          "output_type": "stream",
          "text": [
            "Requirement already satisfied: bing-image-downloader in /usr/local/lib/python3.7/dist-packages (1.0.4)\n",
            "time: 2.84 s (started: 2021-04-23 07:38:38 +00:00)\n"
          ],
          "name": "stdout"
        }
      ]
    },
    {
      "cell_type": "code",
      "metadata": {
        "colab": {
          "base_uri": "https://localhost:8080/"
        },
        "id": "edxEG-8kAVJt",
        "outputId": "7d0091e3-1012-423d-c8ff-4f6da0d7f27d"
      },
      "source": [
        "!mkdir images"
      ],
      "execution_count": null,
      "outputs": [
        {
          "output_type": "stream",
          "text": [
            "mkdir: cannot create directory ‘images’: File exists\n",
            "time: 129 ms (started: 2021-04-23 07:38:41 +00:00)\n"
          ],
          "name": "stdout"
        }
      ]
    },
    {
      "cell_type": "code",
      "metadata": {
        "colab": {
          "base_uri": "https://localhost:8080/"
        },
        "id": "cgP_9teEAhdu",
        "outputId": "fd52d630-a0ab-4ed7-e5d3-f426ed8b3ded"
      },
      "source": [
        "from bing_image_downloader import downloader\n",
        "downloader.download(\"pretty sunflower\", limit=100,  output_dir='images', adult_filter_off=True, force_replace=False, timeout=60)\n"
      ],
      "execution_count": null,
      "outputs": [
        {
          "output_type": "stream",
          "text": [
            "\n",
            "\n",
            "[!!]Indexing page: 1\n",
            "\n",
            "[%] Indexed 12 Images on Page 1.\n",
            "\n",
            "===============================================\n",
            "\n",
            "[%] Downloading Image #1 from https://fondos.io/wp-content/uploads/2019/01/sunflower-wallpapers-hd_4460-640x360.jpg\n",
            "[%] File Downloaded !\n",
            "\n",
            "[%] Downloading Image #2 from https://66.media.tumblr.com/cebcb957d4b128d290afa245cfe392e0/tumblr_mftdvavnts1qcyk23o1_500.jpg\n",
            "[%] File Downloaded !\n",
            "\n",
            "[%] Downloading Image #3 from http://www.babyshowerideas4u.com/wp-content/uploads/2014/03/turquoise-and-yellow-baby-shower-via-babyshowerideas4u.com-sunflower.jpg\n",
            "[%] File Downloaded !\n",
            "\n",
            "[%] Downloading Image #4 from http://3.bp.blogspot.com/--ShcPhgDlI8/UfOJYMdoxMI/AAAAAAAAG_0/pkfkiw2YE88/s640/beautiful+Sun+flower+(9).jpg\n",
            "[%] File Downloaded !\n",
            "\n",
            "[%] Downloading Image #5 from https://ohbestdayever.com/wp-content/uploads/2017/12/rustic-sunflower-wedding-centerpiece-ideas-with-mason-jars.jpg\n",
            "[%] File Downloaded !\n",
            "\n",
            "[%] Downloading Image #6 from http://cooldigitalphotography.com/wp-content/uploads/2013/11/Sunflower8-620x1104.jpg\n",
            "[%] File Downloaded !\n",
            "\n",
            "[%] Downloading Image #7 from http://beautyfinals.com/wp-content/uploads/2017/10/Sub-Judul-4-11.png\n",
            "[!] Issue getting: http://beautyfinals.com/wp-content/uploads/2017/10/Sub-Judul-4-11.png\n",
            "[!] Error:: HTTP Error 400: Bad Request\n",
            "[%] Downloading Image #7 from https://emmalovesweddings.com/wp-content/uploads/2019/08/burgundy-and-yellow-sunflower-wedding-cake.jpg\n",
            "[%] File Downloaded !\n",
            "\n",
            "[%] Downloading Image #8 from https://i.pinimg.com/736x/4e/db/05/4edb0554f7d448bc0a42ce506d0bc393.jpg\n",
            "[%] File Downloaded !\n",
            "\n",
            "[%] Downloading Image #9 from https://www.hdwallpapers.in/download/beautiful_pink_rose-1680x1050.jpg\n",
            "[%] File Downloaded !\n",
            "\n",
            "[%] Downloading Image #10 from https://i.pinimg.com/736x/6f/9d/20/6f9d20af41380330fa8c704a1ec1bb8f.jpg\n",
            "[%] File Downloaded !\n",
            "\n",
            "[%] Downloading Image #11 from https://s-media-cache-ak0.pinimg.com/736x/3e/ad/a3/3eada3d57e8233b83a91d9ae16e4e3b2.jpg\n",
            "[%] File Downloaded !\n",
            "\n",
            "\n",
            "\n",
            "[!!]Indexing page: 2\n",
            "\n",
            "[%] Indexed 12 Images on Page 2.\n",
            "\n",
            "===============================================\n",
            "\n",
            "[%] Downloading Image #12 from https://fondos.io/wp-content/uploads/2019/01/sunflower-wallpapers-hd_4460-640x360.jpg\n",
            "[%] File Downloaded !\n",
            "\n",
            "[%] Downloading Image #13 from https://66.media.tumblr.com/cebcb957d4b128d290afa245cfe392e0/tumblr_mftdvavnts1qcyk23o1_500.jpg\n",
            "[%] File Downloaded !\n",
            "\n",
            "[%] Downloading Image #14 from http://www.babyshowerideas4u.com/wp-content/uploads/2014/03/turquoise-and-yellow-baby-shower-via-babyshowerideas4u.com-sunflower.jpg\n",
            "[%] File Downloaded !\n",
            "\n",
            "[%] Downloading Image #15 from http://3.bp.blogspot.com/--ShcPhgDlI8/UfOJYMdoxMI/AAAAAAAAG_0/pkfkiw2YE88/s640/beautiful+Sun+flower+(9).jpg\n",
            "[%] File Downloaded !\n",
            "\n",
            "[%] Downloading Image #16 from https://ohbestdayever.com/wp-content/uploads/2017/12/rustic-sunflower-wedding-centerpiece-ideas-with-mason-jars.jpg\n",
            "[%] File Downloaded !\n",
            "\n",
            "[%] Downloading Image #17 from http://cooldigitalphotography.com/wp-content/uploads/2013/11/Sunflower8-620x1104.jpg\n",
            "[%] File Downloaded !\n",
            "\n",
            "[%] Downloading Image #18 from http://beautyfinals.com/wp-content/uploads/2017/10/Sub-Judul-4-11.png\n",
            "[!] Issue getting: http://beautyfinals.com/wp-content/uploads/2017/10/Sub-Judul-4-11.png\n",
            "[!] Error:: HTTP Error 400: Bad Request\n",
            "[%] Downloading Image #18 from https://emmalovesweddings.com/wp-content/uploads/2019/08/burgundy-and-yellow-sunflower-wedding-cake.jpg\n",
            "[%] File Downloaded !\n",
            "\n",
            "[%] Downloading Image #19 from https://i.pinimg.com/736x/4e/db/05/4edb0554f7d448bc0a42ce506d0bc393.jpg\n",
            "[%] File Downloaded !\n",
            "\n",
            "[%] Downloading Image #20 from https://www.hdwallpapers.in/download/beautiful_pink_rose-1680x1050.jpg\n",
            "[%] File Downloaded !\n",
            "\n",
            "[%] Downloading Image #21 from https://i.pinimg.com/736x/6f/9d/20/6f9d20af41380330fa8c704a1ec1bb8f.jpg\n",
            "[%] File Downloaded !\n",
            "\n",
            "[%] Downloading Image #22 from https://s-media-cache-ak0.pinimg.com/736x/3e/ad/a3/3eada3d57e8233b83a91d9ae16e4e3b2.jpg\n",
            "[%] File Downloaded !\n",
            "\n",
            "\n",
            "\n",
            "[!!]Indexing page: 3\n",
            "\n",
            "[%] Indexed 11 Images on Page 3.\n",
            "\n",
            "===============================================\n",
            "\n",
            "[%] Downloading Image #23 from http://3.bp.blogspot.com/--ShcPhgDlI8/UfOJYMdoxMI/AAAAAAAAG_0/pkfkiw2YE88/s640/beautiful+Sun+flower+(9).jpg\n",
            "[%] File Downloaded !\n",
            "\n",
            "[%] Downloading Image #24 from https://ohbestdayever.com/wp-content/uploads/2017/12/rustic-sunflower-wedding-centerpiece-ideas-with-mason-jars.jpg\n",
            "[%] File Downloaded !\n",
            "\n",
            "[%] Downloading Image #25 from http://cooldigitalphotography.com/wp-content/uploads/2013/11/Sunflower8-620x1104.jpg\n",
            "[%] File Downloaded !\n",
            "\n",
            "[%] Downloading Image #26 from http://www.babyshowerideas4u.com/wp-content/uploads/2014/03/turquoise-and-yellow-baby-shower-via-babyshowerideas4u.com-sunflower.jpg\n",
            "[%] File Downloaded !\n",
            "\n",
            "[%] Downloading Image #27 from https://emmalovesweddings.com/wp-content/uploads/2019/08/burgundy-and-yellow-sunflower-wedding-cake.jpg\n",
            "[%] File Downloaded !\n",
            "\n",
            "[%] Downloading Image #28 from https://i.pinimg.com/736x/4e/db/05/4edb0554f7d448bc0a42ce506d0bc393.jpg\n",
            "[%] File Downloaded !\n",
            "\n",
            "[%] Downloading Image #29 from https://www.hdwallpapers.in/download/beautiful_pink_rose-1680x1050.jpg\n",
            "[%] File Downloaded !\n",
            "\n",
            "[%] Downloading Image #30 from https://i.pinimg.com/736x/6f/9d/20/6f9d20af41380330fa8c704a1ec1bb8f.jpg\n",
            "[%] File Downloaded !\n",
            "\n",
            "[%] Downloading Image #31 from https://s-media-cache-ak0.pinimg.com/736x/3e/ad/a3/3eada3d57e8233b83a91d9ae16e4e3b2.jpg\n",
            "[%] File Downloaded !\n",
            "\n",
            "[%] Downloading Image #32 from https://66.media.tumblr.com/cebcb957d4b128d290afa245cfe392e0/tumblr_mftdvavnts1qcyk23o1_500.jpg\n",
            "[%] File Downloaded !\n",
            "\n",
            "[%] Downloading Image #33 from http://beautyfinals.com/wp-content/uploads/2017/10/Sub-Judul-4-11.png\n",
            "[!] Issue getting: http://beautyfinals.com/wp-content/uploads/2017/10/Sub-Judul-4-11.png\n",
            "[!] Error:: HTTP Error 400: Bad Request\n",
            "\n",
            "\n",
            "[!!]Indexing page: 4\n",
            "\n",
            "[%] Indexed 10 Images on Page 4.\n",
            "\n",
            "===============================================\n",
            "\n",
            "[%] Downloading Image #33 from http://cooldigitalphotography.com/wp-content/uploads/2013/11/Sunflower8-620x1104.jpg\n",
            "[%] File Downloaded !\n",
            "\n",
            "[%] Downloading Image #34 from https://www.hdwallpapers.in/download/beautiful_pink_rose-1680x1050.jpg\n",
            "[%] File Downloaded !\n",
            "\n",
            "[%] Downloading Image #35 from https://emmalovesweddings.com/wp-content/uploads/2019/08/burgundy-and-yellow-sunflower-wedding-cake.jpg\n",
            "[%] File Downloaded !\n",
            "\n",
            "[%] Downloading Image #36 from http://beautyfinals.com/wp-content/uploads/2017/10/Sub-Judul-4-11.png\n",
            "[!] Issue getting: http://beautyfinals.com/wp-content/uploads/2017/10/Sub-Judul-4-11.png\n",
            "[!] Error:: HTTP Error 400: Bad Request\n",
            "[%] Downloading Image #36 from https://i.pinimg.com/736x/6f/9d/20/6f9d20af41380330fa8c704a1ec1bb8f.jpg\n",
            "[%] File Downloaded !\n",
            "\n",
            "[%] Downloading Image #37 from https://ohbestdayever.com/wp-content/uploads/2017/12/rustic-sunflower-wedding-centerpiece-ideas-with-mason-jars.jpg\n",
            "[%] File Downloaded !\n",
            "\n",
            "[%] Downloading Image #38 from https://66.media.tumblr.com/cebcb957d4b128d290afa245cfe392e0/tumblr_mftdvavnts1qcyk23o1_500.jpg\n",
            "[%] File Downloaded !\n",
            "\n",
            "[%] Downloading Image #39 from http://www.babyshowerideas4u.com/wp-content/uploads/2014/03/turquoise-and-yellow-baby-shower-via-babyshowerideas4u.com-sunflower.jpg\n",
            "[%] File Downloaded !\n",
            "\n",
            "[%] Downloading Image #40 from https://s-media-cache-ak0.pinimg.com/736x/3e/ad/a3/3eada3d57e8233b83a91d9ae16e4e3b2.jpg\n",
            "[%] File Downloaded !\n",
            "\n",
            "[%] Downloading Image #41 from https://i.pinimg.com/736x/4e/db/05/4edb0554f7d448bc0a42ce506d0bc393.jpg\n",
            "[%] File Downloaded !\n",
            "\n",
            "\n",
            "\n",
            "[!!]Indexing page: 5\n",
            "\n",
            "[%] Indexed 9 Images on Page 5.\n",
            "\n",
            "===============================================\n",
            "\n",
            "[%] Downloading Image #42 from https://emmalovesweddings.com/wp-content/uploads/2019/08/burgundy-and-yellow-sunflower-wedding-cake.jpg\n",
            "[%] File Downloaded !\n",
            "\n",
            "[%] Downloading Image #43 from http://www.babyshowerideas4u.com/wp-content/uploads/2014/03/turquoise-and-yellow-baby-shower-via-babyshowerideas4u.com-sunflower.jpg\n",
            "[%] File Downloaded !\n",
            "\n",
            "[%] Downloading Image #44 from https://i.pinimg.com/736x/6f/9d/20/6f9d20af41380330fa8c704a1ec1bb8f.jpg\n",
            "[%] File Downloaded !\n",
            "\n",
            "[%] Downloading Image #45 from https://i.pinimg.com/736x/4e/db/05/4edb0554f7d448bc0a42ce506d0bc393.jpg\n",
            "[%] File Downloaded !\n",
            "\n",
            "[%] Downloading Image #46 from https://66.media.tumblr.com/cebcb957d4b128d290afa245cfe392e0/tumblr_mftdvavnts1qcyk23o1_500.jpg\n",
            "[%] File Downloaded !\n",
            "\n",
            "[%] Downloading Image #47 from https://www.hdwallpapers.in/download/beautiful_pink_rose-1680x1050.jpg\n",
            "[%] File Downloaded !\n",
            "\n",
            "[%] Downloading Image #48 from https://s-media-cache-ak0.pinimg.com/736x/3e/ad/a3/3eada3d57e8233b83a91d9ae16e4e3b2.jpg\n",
            "[%] File Downloaded !\n",
            "\n",
            "[%] Downloading Image #49 from http://beautyfinals.com/wp-content/uploads/2017/10/Sub-Judul-4-11.png\n",
            "[!] Issue getting: http://beautyfinals.com/wp-content/uploads/2017/10/Sub-Judul-4-11.png\n",
            "[!] Error:: HTTP Error 400: Bad Request\n",
            "[%] Downloading Image #49 from https://ohbestdayever.com/wp-content/uploads/2017/12/rustic-sunflower-wedding-centerpiece-ideas-with-mason-jars.jpg\n",
            "[%] File Downloaded !\n",
            "\n",
            "\n",
            "\n",
            "[!!]Indexing page: 6\n",
            "\n",
            "[%] Indexed 8 Images on Page 6.\n",
            "\n",
            "===============================================\n",
            "\n",
            "[%] Downloading Image #50 from https://i.pinimg.com/736x/6f/9d/20/6f9d20af41380330fa8c704a1ec1bb8f.jpg\n",
            "[%] File Downloaded !\n",
            "\n",
            "[%] Downloading Image #51 from http://www.babyshowerideas4u.com/wp-content/uploads/2014/03/turquoise-and-yellow-baby-shower-via-babyshowerideas4u.com-sunflower.jpg\n",
            "[%] File Downloaded !\n",
            "\n",
            "[%] Downloading Image #52 from https://66.media.tumblr.com/cebcb957d4b128d290afa245cfe392e0/tumblr_mftdvavnts1qcyk23o1_500.jpg\n",
            "[%] File Downloaded !\n",
            "\n",
            "[%] Downloading Image #53 from https://s-media-cache-ak0.pinimg.com/736x/3e/ad/a3/3eada3d57e8233b83a91d9ae16e4e3b2.jpg\n",
            "[%] File Downloaded !\n",
            "\n",
            "[%] Downloading Image #54 from https://www.hdwallpapers.in/download/beautiful_pink_rose-1680x1050.jpg\n",
            "[%] File Downloaded !\n",
            "\n",
            "[%] Downloading Image #55 from https://ohbestdayever.com/wp-content/uploads/2017/12/rustic-sunflower-wedding-centerpiece-ideas-with-mason-jars.jpg\n",
            "[%] File Downloaded !\n",
            "\n",
            "[%] Downloading Image #56 from https://i.pinimg.com/736x/4e/db/05/4edb0554f7d448bc0a42ce506d0bc393.jpg\n",
            "[%] File Downloaded !\n",
            "\n",
            "[%] Downloading Image #57 from http://beautyfinals.com/wp-content/uploads/2017/10/Sub-Judul-4-11.png\n",
            "[!] Issue getting: http://beautyfinals.com/wp-content/uploads/2017/10/Sub-Judul-4-11.png\n",
            "[!] Error:: HTTP Error 400: Bad Request\n",
            "\n",
            "\n",
            "[!!]Indexing page: 7\n",
            "\n",
            "[%] Indexed 7 Images on Page 7.\n",
            "\n",
            "===============================================\n",
            "\n",
            "[%] Downloading Image #57 from https://66.media.tumblr.com/cebcb957d4b128d290afa245cfe392e0/tumblr_mftdvavnts1qcyk23o1_500.jpg\n",
            "[%] File Downloaded !\n",
            "\n",
            "[%] Downloading Image #58 from https://s-media-cache-ak0.pinimg.com/736x/3e/ad/a3/3eada3d57e8233b83a91d9ae16e4e3b2.jpg\n",
            "[%] File Downloaded !\n",
            "\n",
            "[%] Downloading Image #59 from https://www.hdwallpapers.in/download/beautiful_pink_rose-1680x1050.jpg\n",
            "[%] File Downloaded !\n",
            "\n",
            "[%] Downloading Image #60 from https://ohbestdayever.com/wp-content/uploads/2017/12/rustic-sunflower-wedding-centerpiece-ideas-with-mason-jars.jpg\n",
            "[%] File Downloaded !\n",
            "\n",
            "[%] Downloading Image #61 from https://i.pinimg.com/736x/4e/db/05/4edb0554f7d448bc0a42ce506d0bc393.jpg\n",
            "[%] File Downloaded !\n",
            "\n",
            "[%] Downloading Image #62 from http://www.babyshowerideas4u.com/wp-content/uploads/2014/03/turquoise-and-yellow-baby-shower-via-babyshowerideas4u.com-sunflower.jpg\n",
            "[%] File Downloaded !\n",
            "\n",
            "[%] Downloading Image #63 from http://beautyfinals.com/wp-content/uploads/2017/10/Sub-Judul-4-11.png\n",
            "[!] Issue getting: http://beautyfinals.com/wp-content/uploads/2017/10/Sub-Judul-4-11.png\n",
            "[!] Error:: HTTP Error 400: Bad Request\n",
            "\n",
            "\n",
            "[!!]Indexing page: 8\n",
            "\n",
            "[%] Indexed 6 Images on Page 8.\n",
            "\n",
            "===============================================\n",
            "\n",
            "[%] Downloading Image #63 from https://s-media-cache-ak0.pinimg.com/736x/3e/ad/a3/3eada3d57e8233b83a91d9ae16e4e3b2.jpg\n",
            "[%] File Downloaded !\n",
            "\n",
            "[%] Downloading Image #64 from https://ohbestdayever.com/wp-content/uploads/2017/12/rustic-sunflower-wedding-centerpiece-ideas-with-mason-jars.jpg\n",
            "[%] File Downloaded !\n",
            "\n",
            "[%] Downloading Image #65 from https://i.pinimg.com/736x/4e/db/05/4edb0554f7d448bc0a42ce506d0bc393.jpg\n",
            "[%] File Downloaded !\n",
            "\n",
            "[%] Downloading Image #66 from https://www.hdwallpapers.in/download/beautiful_pink_rose-1680x1050.jpg\n",
            "[%] File Downloaded !\n",
            "\n",
            "[%] Downloading Image #67 from http://beautyfinals.com/wp-content/uploads/2017/10/Sub-Judul-4-11.png\n",
            "[!] Issue getting: http://beautyfinals.com/wp-content/uploads/2017/10/Sub-Judul-4-11.png\n",
            "[!] Error:: HTTP Error 400: Bad Request\n",
            "[%] Downloading Image #67 from http://www.babyshowerideas4u.com/wp-content/uploads/2014/03/turquoise-and-yellow-baby-shower-via-babyshowerideas4u.com-sunflower.jpg\n",
            "[%] File Downloaded !\n",
            "\n",
            "\n",
            "\n",
            "[!!]Indexing page: 9\n",
            "\n",
            "[%] Indexed 5 Images on Page 9.\n",
            "\n",
            "===============================================\n",
            "\n",
            "[%] Downloading Image #68 from https://ohbestdayever.com/wp-content/uploads/2017/12/rustic-sunflower-wedding-centerpiece-ideas-with-mason-jars.jpg\n",
            "[%] File Downloaded !\n",
            "\n",
            "[%] Downloading Image #69 from https://i.pinimg.com/736x/4e/db/05/4edb0554f7d448bc0a42ce506d0bc393.jpg\n",
            "[%] File Downloaded !\n",
            "\n",
            "[%] Downloading Image #70 from http://beautyfinals.com/wp-content/uploads/2017/10/Sub-Judul-4-11.png\n",
            "[!] Issue getting: http://beautyfinals.com/wp-content/uploads/2017/10/Sub-Judul-4-11.png\n",
            "[!] Error:: HTTP Error 400: Bad Request\n",
            "[%] Downloading Image #70 from http://www.babyshowerideas4u.com/wp-content/uploads/2014/03/turquoise-and-yellow-baby-shower-via-babyshowerideas4u.com-sunflower.jpg\n",
            "[%] File Downloaded !\n",
            "\n",
            "[%] Downloading Image #71 from https://www.hdwallpapers.in/download/beautiful_pink_rose-1680x1050.jpg\n",
            "[%] File Downloaded !\n",
            "\n",
            "\n",
            "\n",
            "[!!]Indexing page: 10\n",
            "\n",
            "[%] Indexed 4 Images on Page 10.\n",
            "\n",
            "===============================================\n",
            "\n",
            "[%] Downloading Image #72 from https://i.pinimg.com/736x/4e/db/05/4edb0554f7d448bc0a42ce506d0bc393.jpg\n",
            "[%] File Downloaded !\n",
            "\n",
            "[%] Downloading Image #73 from http://beautyfinals.com/wp-content/uploads/2017/10/Sub-Judul-4-11.png\n",
            "[!] Issue getting: http://beautyfinals.com/wp-content/uploads/2017/10/Sub-Judul-4-11.png\n",
            "[!] Error:: HTTP Error 400: Bad Request\n",
            "[%] Downloading Image #73 from http://www.babyshowerideas4u.com/wp-content/uploads/2014/03/turquoise-and-yellow-baby-shower-via-babyshowerideas4u.com-sunflower.jpg\n",
            "[%] File Downloaded !\n",
            "\n",
            "[%] Downloading Image #74 from https://www.hdwallpapers.in/download/beautiful_pink_rose-1680x1050.jpg\n",
            "[%] File Downloaded !\n",
            "\n",
            "\n",
            "\n",
            "[!!]Indexing page: 11\n",
            "\n",
            "[%] Indexed 3 Images on Page 11.\n",
            "\n",
            "===============================================\n",
            "\n",
            "[%] Downloading Image #75 from http://www.prettydesigns.com/wp-content/uploads/2014/09/Peony-Tattoo.jpg\n",
            "[%] File Downloaded !\n",
            "\n",
            "[%] Downloading Image #76 from http://pinteresting.involvery.com/wp-content/uploads/sites/15/2016/10/1252_1883327114-1.jpg\n",
            "[%] File Downloaded !\n",
            "\n",
            "[%] Downloading Image #77 from https://clipground.com/images/condolence-images-flowers-8.jpg\n",
            "[%] File Downloaded !\n",
            "\n",
            "\n",
            "\n",
            "[!!]Indexing page: 12\n",
            "\n",
            "[%] Indexed 2 Images on Page 12.\n",
            "\n",
            "===============================================\n",
            "\n",
            "[%] Downloading Image #78 from http://www.babyshowerideas4u.com/wp-content/uploads/2014/03/turquoise-and-yellow-baby-shower-via-babyshowerideas4u.com-sunflower.jpg\n",
            "[%] File Downloaded !\n",
            "\n",
            "[%] Downloading Image #79 from https://www.hdwallpapers.in/download/beautiful_pink_rose-1680x1050.jpg\n",
            "[%] File Downloaded !\n",
            "\n",
            "\n",
            "\n",
            "[!!]Indexing page: 13\n",
            "\n",
            "[%] Indexed 1 Images on Page 13.\n",
            "\n",
            "===============================================\n",
            "\n",
            "[%] Downloading Image #80 from https://www.hdwallpapers.in/download/beautiful_pink_rose-1680x1050.jpg\n",
            "[%] File Downloaded !\n",
            "\n",
            "\n",
            "\n",
            "[!!]Indexing page: 14\n",
            "\n",
            "[%] Indexed 12 Images on Page 14.\n",
            "\n",
            "===============================================\n",
            "\n",
            "[%] Downloading Image #81 from https://fondos.io/wp-content/uploads/2019/01/sunflower-wallpapers-hd_4460-640x360.jpg\n",
            "[%] File Downloaded !\n",
            "\n",
            "[%] Downloading Image #82 from https://66.media.tumblr.com/cebcb957d4b128d290afa245cfe392e0/tumblr_mftdvavnts1qcyk23o1_500.jpg\n",
            "[%] File Downloaded !\n",
            "\n",
            "[%] Downloading Image #83 from http://www.babyshowerideas4u.com/wp-content/uploads/2014/03/turquoise-and-yellow-baby-shower-via-babyshowerideas4u.com-sunflower.jpg\n",
            "[%] File Downloaded !\n",
            "\n",
            "[%] Downloading Image #84 from http://3.bp.blogspot.com/--ShcPhgDlI8/UfOJYMdoxMI/AAAAAAAAG_0/pkfkiw2YE88/s640/beautiful+Sun+flower+(9).jpg\n",
            "[%] File Downloaded !\n",
            "\n",
            "[%] Downloading Image #85 from https://ohbestdayever.com/wp-content/uploads/2017/12/rustic-sunflower-wedding-centerpiece-ideas-with-mason-jars.jpg\n",
            "[%] File Downloaded !\n",
            "\n",
            "[%] Downloading Image #86 from http://cooldigitalphotography.com/wp-content/uploads/2013/11/Sunflower8-620x1104.jpg\n",
            "[%] File Downloaded !\n",
            "\n",
            "[%] Downloading Image #87 from http://beautyfinals.com/wp-content/uploads/2017/10/Sub-Judul-4-11.png\n",
            "[!] Issue getting: http://beautyfinals.com/wp-content/uploads/2017/10/Sub-Judul-4-11.png\n",
            "[!] Error:: HTTP Error 400: Bad Request\n",
            "[%] Downloading Image #87 from https://emmalovesweddings.com/wp-content/uploads/2019/08/burgundy-and-yellow-sunflower-wedding-cake.jpg\n",
            "[%] File Downloaded !\n",
            "\n",
            "[%] Downloading Image #88 from https://i.pinimg.com/736x/4e/db/05/4edb0554f7d448bc0a42ce506d0bc393.jpg\n",
            "[%] File Downloaded !\n",
            "\n",
            "[%] Downloading Image #89 from https://www.hdwallpapers.in/download/beautiful_pink_rose-1680x1050.jpg\n",
            "[%] File Downloaded !\n",
            "\n",
            "[%] Downloading Image #90 from https://i.pinimg.com/736x/6f/9d/20/6f9d20af41380330fa8c704a1ec1bb8f.jpg\n",
            "[%] File Downloaded !\n",
            "\n",
            "[%] Downloading Image #91 from https://s-media-cache-ak0.pinimg.com/736x/3e/ad/a3/3eada3d57e8233b83a91d9ae16e4e3b2.jpg\n",
            "[%] File Downloaded !\n",
            "\n",
            "\n",
            "\n",
            "[!!]Indexing page: 15\n",
            "\n",
            "[%] Indexed 12 Images on Page 15.\n",
            "\n",
            "===============================================\n",
            "\n",
            "[%] Downloading Image #92 from https://fondos.io/wp-content/uploads/2019/01/sunflower-wallpapers-hd_4460-640x360.jpg\n",
            "[%] File Downloaded !\n",
            "\n",
            "[%] Downloading Image #93 from https://66.media.tumblr.com/cebcb957d4b128d290afa245cfe392e0/tumblr_mftdvavnts1qcyk23o1_500.jpg\n",
            "[%] File Downloaded !\n",
            "\n",
            "[%] Downloading Image #94 from http://www.babyshowerideas4u.com/wp-content/uploads/2014/03/turquoise-and-yellow-baby-shower-via-babyshowerideas4u.com-sunflower.jpg\n",
            "[%] File Downloaded !\n",
            "\n",
            "[%] Downloading Image #95 from http://3.bp.blogspot.com/--ShcPhgDlI8/UfOJYMdoxMI/AAAAAAAAG_0/pkfkiw2YE88/s640/beautiful+Sun+flower+(9).jpg\n",
            "[%] File Downloaded !\n",
            "\n",
            "[%] Downloading Image #96 from https://ohbestdayever.com/wp-content/uploads/2017/12/rustic-sunflower-wedding-centerpiece-ideas-with-mason-jars.jpg\n",
            "[%] File Downloaded !\n",
            "\n",
            "[%] Downloading Image #97 from http://cooldigitalphotography.com/wp-content/uploads/2013/11/Sunflower8-620x1104.jpg\n",
            "[%] File Downloaded !\n",
            "\n",
            "[%] Downloading Image #98 from http://beautyfinals.com/wp-content/uploads/2017/10/Sub-Judul-4-11.png\n",
            "[!] Issue getting: http://beautyfinals.com/wp-content/uploads/2017/10/Sub-Judul-4-11.png\n",
            "[!] Error:: HTTP Error 400: Bad Request\n",
            "[%] Downloading Image #98 from https://emmalovesweddings.com/wp-content/uploads/2019/08/burgundy-and-yellow-sunflower-wedding-cake.jpg\n",
            "[%] File Downloaded !\n",
            "\n",
            "[%] Downloading Image #99 from https://i.pinimg.com/736x/4e/db/05/4edb0554f7d448bc0a42ce506d0bc393.jpg\n",
            "[%] File Downloaded !\n",
            "\n",
            "[%] Downloading Image #100 from https://www.hdwallpapers.in/download/beautiful_pink_rose-1680x1050.jpg\n",
            "[%] File Downloaded !\n",
            "\n",
            "\n",
            "\n",
            "[%] Done. Downloaded 100 images.\n",
            "\n",
            "===============================================\n",
            "\n",
            "time: 51.6 s (started: 2021-04-23 07:38:41 +00:00)\n"
          ],
          "name": "stdout"
        }
      ]
    },
    {
      "cell_type": "code",
      "metadata": {
        "colab": {
          "base_uri": "https://localhost:8080/"
        },
        "id": "wgyBQ6QlBYSM",
        "outputId": "a5e60583-81c9-4675-9895-25dce3b1a913"
      },
      "source": [
        "downloader.download(\"apple fruit\",limit=100,output_dir='images')\n"
      ],
      "execution_count": null,
      "outputs": [
        {
          "output_type": "stream",
          "text": [
            "\n",
            "\n",
            "[!!]Indexing page: 1\n",
            "\n",
            "[%] Indexed 12 Images on Page 1.\n",
            "\n",
            "===============================================\n",
            "\n",
            "[%] Downloading Image #1 from http://ryanishungry.com/ebay/ebay249/50_apple_picker_bag/4.jpg\n",
            "[%] File Downloaded !\n",
            "\n",
            "[%] Downloading Image #2 from https://www.stonyfield.com/wp-content/uploads/2017/03/oatmeal-chocolate-chip-cookies_800x1200.jpg\n",
            "[%] File Downloaded !\n",
            "\n",
            "[%] Downloading Image #3 from https://www.tattoosforyou.org/wp-content/uploads/2016/03/Apple-Tattoo.jpg\n",
            "[%] File Downloaded !\n",
            "\n",
            "[%] Downloading Image #4 from https://banner2.kisspng.com/20171201/f08/blood-png-image-5a217a97ae6643.3034836215121435117144.jpg\n",
            "[%] File Downloaded !\n",
            "\n",
            "[%] Downloading Image #5 from https://thegraphicsfairy.com/wp-content/uploads/blogger/_CarNcodpCMA/TT4rZBfMHXI/AAAAAAAAKj0/nhaE3Zxq62g/s1600/valentine-beauty-graphicsfairy007.jpg\n",
            "[%] File Downloaded !\n",
            "\n",
            "[%] Downloading Image #6 from https://static01.nyt.com/images/2010/09/24/arts/24ARCI-2/SUB-ARCI-2-popup.jpg\n",
            "[%] File Downloaded !\n",
            "\n",
            "[%] Downloading Image #7 from https://bugwoodcloud.org/images/1536x1024/5356661.jpg\n",
            "[%] File Downloaded !\n",
            "\n",
            "[%] Downloading Image #8 from https://img.thedailybeast.com/image/upload/c_crop,d_placeholder_euli9k,h_1688,w_3001,x_0,y_0/dpr_2.0/c_limit,w_740/fl_lossy,q_auto/v1578718994/36603986_1578635670762557_r_x513uh\n",
            "[%] File Downloaded !\n",
            "\n",
            "[%] Downloading Image #9 from https://bugwoodcloud.org/images/768x512/1577129.jpg\n",
            "[%] File Downloaded !\n",
            "\n",
            "[%] Downloading Image #10 from http://www.beesdiy.com/wp-content/uploads/2015/10/How-to-DIY-Edible-Christmas-Tree-Platter7.jpg\n",
            "[%] File Downloaded !\n",
            "\n",
            "[%] Downloading Image #11 from https://i.pinimg.com/736x/3e/fa/ba/3efaba8b687cef7ca19c784073790627.jpg\n",
            "[%] File Downloaded !\n",
            "\n",
            "[%] Downloading Image #12 from https://banner2.kisspng.com/20171218/ddc/question-mark-png-5a381257a89243.6425987715136241516905.jpg\n",
            "[%] File Downloaded !\n",
            "\n",
            "\n",
            "\n",
            "[!!]Indexing page: 2\n",
            "\n",
            "[%] Indexed 12 Images on Page 2.\n",
            "\n",
            "===============================================\n",
            "\n",
            "[%] Downloading Image #13 from http://ryanishungry.com/ebay/ebay249/50_apple_picker_bag/4.jpg\n",
            "[%] File Downloaded !\n",
            "\n",
            "[%] Downloading Image #14 from https://www.stonyfield.com/wp-content/uploads/2017/03/oatmeal-chocolate-chip-cookies_800x1200.jpg\n",
            "[%] File Downloaded !\n",
            "\n",
            "[%] Downloading Image #15 from https://www.tattoosforyou.org/wp-content/uploads/2016/03/Apple-Tattoo.jpg\n",
            "[%] File Downloaded !\n",
            "\n",
            "[%] Downloading Image #16 from https://banner2.kisspng.com/20171201/f08/blood-png-image-5a217a97ae6643.3034836215121435117144.jpg\n",
            "[%] File Downloaded !\n",
            "\n",
            "[%] Downloading Image #17 from https://thegraphicsfairy.com/wp-content/uploads/blogger/_CarNcodpCMA/TT4rZBfMHXI/AAAAAAAAKj0/nhaE3Zxq62g/s1600/valentine-beauty-graphicsfairy007.jpg\n",
            "[%] File Downloaded !\n",
            "\n",
            "[%] Downloading Image #18 from https://static01.nyt.com/images/2010/09/24/arts/24ARCI-2/SUB-ARCI-2-popup.jpg\n",
            "[%] File Downloaded !\n",
            "\n",
            "[%] Downloading Image #19 from https://bugwoodcloud.org/images/1536x1024/5356661.jpg\n",
            "[%] File Downloaded !\n",
            "\n",
            "[%] Downloading Image #20 from https://img.thedailybeast.com/image/upload/c_crop,d_placeholder_euli9k,h_1688,w_3001,x_0,y_0/dpr_2.0/c_limit,w_740/fl_lossy,q_auto/v1578718994/36603986_1578635670762557_r_x513uh\n",
            "[%] File Downloaded !\n",
            "\n",
            "[%] Downloading Image #21 from https://bugwoodcloud.org/images/768x512/1577129.jpg\n",
            "[%] File Downloaded !\n",
            "\n",
            "[%] Downloading Image #22 from http://www.beesdiy.com/wp-content/uploads/2015/10/How-to-DIY-Edible-Christmas-Tree-Platter7.jpg\n",
            "[%] File Downloaded !\n",
            "\n",
            "[%] Downloading Image #23 from https://i.pinimg.com/736x/3e/fa/ba/3efaba8b687cef7ca19c784073790627.jpg\n",
            "[%] File Downloaded !\n",
            "\n",
            "[%] Downloading Image #24 from https://banner2.kisspng.com/20171218/ddc/question-mark-png-5a381257a89243.6425987715136241516905.jpg\n",
            "[%] File Downloaded !\n",
            "\n",
            "\n",
            "\n",
            "[!!]Indexing page: 3\n",
            "\n",
            "[%] Indexed 11 Images on Page 3.\n",
            "\n",
            "===============================================\n",
            "\n",
            "[%] Downloading Image #25 from https://www.tattoosforyou.org/wp-content/uploads/2016/03/Apple-Tattoo.jpg\n",
            "[%] File Downloaded !\n",
            "\n",
            "[%] Downloading Image #26 from https://banner2.kisspng.com/20171201/f08/blood-png-image-5a217a97ae6643.3034836215121435117144.jpg\n",
            "[%] File Downloaded !\n",
            "\n",
            "[%] Downloading Image #27 from https://thegraphicsfairy.com/wp-content/uploads/blogger/_CarNcodpCMA/TT4rZBfMHXI/AAAAAAAAKj0/nhaE3Zxq62g/s1600/valentine-beauty-graphicsfairy007.jpg\n",
            "[%] File Downloaded !\n",
            "\n",
            "[%] Downloading Image #28 from https://static01.nyt.com/images/2010/09/24/arts/24ARCI-2/SUB-ARCI-2-popup.jpg\n",
            "[%] File Downloaded !\n",
            "\n",
            "[%] Downloading Image #29 from https://bugwoodcloud.org/images/1536x1024/5356661.jpg\n",
            "[%] File Downloaded !\n",
            "\n",
            "[%] Downloading Image #30 from https://img.thedailybeast.com/image/upload/c_crop,d_placeholder_euli9k,h_1688,w_3001,x_0,y_0/dpr_2.0/c_limit,w_740/fl_lossy,q_auto/v1578718994/36603986_1578635670762557_r_x513uh\n",
            "[%] File Downloaded !\n",
            "\n",
            "[%] Downloading Image #31 from http://www.beesdiy.com/wp-content/uploads/2015/10/How-to-DIY-Edible-Christmas-Tree-Platter7.jpg\n",
            "[%] File Downloaded !\n",
            "\n",
            "[%] Downloading Image #32 from https://i.pinimg.com/736x/3e/fa/ba/3efaba8b687cef7ca19c784073790627.jpg\n",
            "[%] File Downloaded !\n",
            "\n",
            "[%] Downloading Image #33 from https://banner2.kisspng.com/20171218/ddc/question-mark-png-5a381257a89243.6425987715136241516905.jpg\n",
            "[%] File Downloaded !\n",
            "\n",
            "[%] Downloading Image #34 from https://bugwoodcloud.org/images/768x512/1577129.jpg\n",
            "[%] File Downloaded !\n",
            "\n",
            "[%] Downloading Image #35 from https://www.stonyfield.com/wp-content/uploads/2017/03/oatmeal-chocolate-chip-cookies_800x1200.jpg\n",
            "[%] File Downloaded !\n",
            "\n",
            "\n",
            "\n",
            "[!!]Indexing page: 4\n",
            "\n",
            "[%] Indexed 10 Images on Page 4.\n",
            "\n",
            "===============================================\n",
            "\n",
            "[%] Downloading Image #36 from https://static01.nyt.com/images/2010/09/24/arts/24ARCI-2/SUB-ARCI-2-popup.jpg\n",
            "[%] File Downloaded !\n",
            "\n",
            "[%] Downloading Image #37 from https://banner2.kisspng.com/20171218/ddc/question-mark-png-5a381257a89243.6425987715136241516905.jpg\n",
            "[%] File Downloaded !\n",
            "\n",
            "[%] Downloading Image #38 from https://img.thedailybeast.com/image/upload/c_crop,d_placeholder_euli9k,h_1688,w_3001,x_0,y_0/dpr_2.0/c_limit,w_740/fl_lossy,q_auto/v1578718994/36603986_1578635670762557_r_x513uh\n",
            "[%] File Downloaded !\n",
            "\n",
            "[%] Downloading Image #39 from https://www.stonyfield.com/wp-content/uploads/2017/03/oatmeal-chocolate-chip-cookies_800x1200.jpg\n",
            "[%] File Downloaded !\n",
            "\n",
            "[%] Downloading Image #40 from https://i.pinimg.com/736x/3e/fa/ba/3efaba8b687cef7ca19c784073790627.jpg\n",
            "[%] File Downloaded !\n",
            "\n",
            "[%] Downloading Image #41 from https://thegraphicsfairy.com/wp-content/uploads/blogger/_CarNcodpCMA/TT4rZBfMHXI/AAAAAAAAKj0/nhaE3Zxq62g/s1600/valentine-beauty-graphicsfairy007.jpg\n",
            "[%] File Downloaded !\n",
            "\n",
            "[%] Downloading Image #42 from https://bugwoodcloud.org/images/768x512/1577129.jpg\n",
            "[%] File Downloaded !\n",
            "\n",
            "[%] Downloading Image #43 from https://banner2.kisspng.com/20171201/f08/blood-png-image-5a217a97ae6643.3034836215121435117144.jpg\n",
            "[%] File Downloaded !\n",
            "\n",
            "[%] Downloading Image #44 from https://bugwoodcloud.org/images/1536x1024/5356661.jpg\n",
            "[%] File Downloaded !\n",
            "\n",
            "[%] Downloading Image #45 from http://www.beesdiy.com/wp-content/uploads/2015/10/How-to-DIY-Edible-Christmas-Tree-Platter7.jpg\n",
            "[%] File Downloaded !\n",
            "\n",
            "\n",
            "\n",
            "[!!]Indexing page: 5\n",
            "\n",
            "[%] Indexed 9 Images on Page 5.\n",
            "\n",
            "===============================================\n",
            "\n",
            "[%] Downloading Image #46 from https://img.thedailybeast.com/image/upload/c_crop,d_placeholder_euli9k,h_1688,w_3001,x_0,y_0/dpr_2.0/c_limit,w_740/fl_lossy,q_auto/v1578718994/36603986_1578635670762557_r_x513uh\n",
            "[%] File Downloaded !\n",
            "\n",
            "[%] Downloading Image #47 from https://banner2.kisspng.com/20171201/f08/blood-png-image-5a217a97ae6643.3034836215121435117144.jpg\n",
            "[%] File Downloaded !\n",
            "\n",
            "[%] Downloading Image #48 from https://banner2.kisspng.com/20171218/ddc/question-mark-png-5a381257a89243.6425987715136241516905.jpg\n",
            "[%] File Downloaded !\n",
            "\n",
            "[%] Downloading Image #49 from https://i.pinimg.com/736x/3e/fa/ba/3efaba8b687cef7ca19c784073790627.jpg\n",
            "[%] File Downloaded !\n",
            "\n",
            "[%] Downloading Image #50 from https://thegraphicsfairy.com/wp-content/uploads/blogger/_CarNcodpCMA/TT4rZBfMHXI/AAAAAAAAKj0/nhaE3Zxq62g/s1600/valentine-beauty-graphicsfairy007.jpg\n",
            "[%] File Downloaded !\n",
            "\n",
            "[%] Downloading Image #51 from https://bugwoodcloud.org/images/768x512/1577129.jpg\n",
            "[%] File Downloaded !\n",
            "\n",
            "[%] Downloading Image #52 from https://bugwoodcloud.org/images/1536x1024/5356661.jpg\n",
            "[%] File Downloaded !\n",
            "\n",
            "[%] Downloading Image #53 from http://www.beesdiy.com/wp-content/uploads/2015/10/How-to-DIY-Edible-Christmas-Tree-Platter7.jpg\n",
            "[%] File Downloaded !\n",
            "\n",
            "[%] Downloading Image #54 from https://www.stonyfield.com/wp-content/uploads/2017/03/oatmeal-chocolate-chip-cookies_800x1200.jpg\n",
            "[%] File Downloaded !\n",
            "\n",
            "\n",
            "\n",
            "[!!]Indexing page: 6\n",
            "\n",
            "[%] Indexed 8 Images on Page 6.\n",
            "\n",
            "===============================================\n",
            "\n",
            "[%] Downloading Image #55 from https://i.pinimg.com/736x/3e/fa/ba/3efaba8b687cef7ca19c784073790627.jpg\n",
            "[%] File Downloaded !\n",
            "\n",
            "[%] Downloading Image #56 from https://thegraphicsfairy.com/wp-content/uploads/blogger/_CarNcodpCMA/TT4rZBfMHXI/AAAAAAAAKj0/nhaE3Zxq62g/s1600/valentine-beauty-graphicsfairy007.jpg\n",
            "[%] File Downloaded !\n",
            "\n",
            "[%] Downloading Image #57 from https://bugwoodcloud.org/images/768x512/1577129.jpg\n",
            "[%] File Downloaded !\n",
            "\n",
            "[%] Downloading Image #58 from https://banner2.kisspng.com/20171218/ddc/question-mark-png-5a381257a89243.6425987715136241516905.jpg\n",
            "[%] File Downloaded !\n",
            "\n",
            "[%] Downloading Image #59 from http://www.beesdiy.com/wp-content/uploads/2015/10/How-to-DIY-Edible-Christmas-Tree-Platter7.jpg\n",
            "[%] File Downloaded !\n",
            "\n",
            "[%] Downloading Image #60 from https://www.stonyfield.com/wp-content/uploads/2017/03/oatmeal-chocolate-chip-cookies_800x1200.jpg\n",
            "[%] File Downloaded !\n",
            "\n",
            "[%] Downloading Image #61 from https://banner2.kisspng.com/20171201/f08/blood-png-image-5a217a97ae6643.3034836215121435117144.jpg\n",
            "[%] File Downloaded !\n",
            "\n",
            "[%] Downloading Image #62 from https://bugwoodcloud.org/images/1536x1024/5356661.jpg\n",
            "[%] File Downloaded !\n",
            "\n",
            "\n",
            "\n",
            "[!!]Indexing page: 7\n",
            "\n",
            "[%] Indexed 7 Images on Page 7.\n",
            "\n",
            "===============================================\n",
            "\n",
            "[%] Downloading Image #63 from https://bugwoodcloud.org/images/768x512/1577129.jpg\n",
            "[%] File Downloaded !\n",
            "\n",
            "[%] Downloading Image #64 from https://thegraphicsfairy.com/wp-content/uploads/blogger/_CarNcodpCMA/TT4rZBfMHXI/AAAAAAAAKj0/nhaE3Zxq62g/s1600/valentine-beauty-graphicsfairy007.jpg\n",
            "[%] File Downloaded !\n",
            "\n",
            "[%] Downloading Image #65 from http://www.beesdiy.com/wp-content/uploads/2015/10/How-to-DIY-Edible-Christmas-Tree-Platter7.jpg\n",
            "[%] File Downloaded !\n",
            "\n",
            "[%] Downloading Image #66 from https://www.stonyfield.com/wp-content/uploads/2017/03/oatmeal-chocolate-chip-cookies_800x1200.jpg\n",
            "[%] File Downloaded !\n",
            "\n",
            "[%] Downloading Image #67 from https://banner2.kisspng.com/20171201/f08/blood-png-image-5a217a97ae6643.3034836215121435117144.jpg\n",
            "[%] File Downloaded !\n",
            "\n",
            "[%] Downloading Image #68 from https://banner2.kisspng.com/20171218/ddc/question-mark-png-5a381257a89243.6425987715136241516905.jpg\n",
            "[%] File Downloaded !\n",
            "\n",
            "[%] Downloading Image #69 from https://bugwoodcloud.org/images/1536x1024/5356661.jpg\n",
            "[%] File Downloaded !\n",
            "\n",
            "\n",
            "\n",
            "[!!]Indexing page: 8\n",
            "\n",
            "[%] Indexed 6 Images on Page 8.\n",
            "\n",
            "===============================================\n",
            "\n",
            "[%] Downloading Image #70 from http://www.beesdiy.com/wp-content/uploads/2015/10/How-to-DIY-Edible-Christmas-Tree-Platter7.jpg\n",
            "[%] File Downloaded !\n",
            "\n",
            "[%] Downloading Image #71 from https://www.stonyfield.com/wp-content/uploads/2017/03/oatmeal-chocolate-chip-cookies_800x1200.jpg\n",
            "[%] File Downloaded !\n",
            "\n",
            "[%] Downloading Image #72 from https://banner2.kisspng.com/20171201/f08/blood-png-image-5a217a97ae6643.3034836215121435117144.jpg\n",
            "[%] File Downloaded !\n",
            "\n",
            "[%] Downloading Image #73 from https://thegraphicsfairy.com/wp-content/uploads/blogger/_CarNcodpCMA/TT4rZBfMHXI/AAAAAAAAKj0/nhaE3Zxq62g/s1600/valentine-beauty-graphicsfairy007.jpg\n",
            "[%] File Downloaded !\n",
            "\n",
            "[%] Downloading Image #74 from https://bugwoodcloud.org/images/1536x1024/5356661.jpg\n",
            "[%] File Downloaded !\n",
            "\n",
            "[%] Downloading Image #75 from https://banner2.kisspng.com/20171218/ddc/question-mark-png-5a381257a89243.6425987715136241516905.jpg\n",
            "[%] File Downloaded !\n",
            "\n",
            "\n",
            "\n",
            "[!!]Indexing page: 9\n",
            "\n",
            "[%] Indexed 5 Images on Page 9.\n",
            "\n",
            "===============================================\n",
            "\n",
            "[%] Downloading Image #76 from https://static01.nyt.com/images/2010/09/24/arts/24ARCI-2/SUB-ARCI-2-popup.jpg\n",
            "[%] File Downloaded !\n",
            "\n",
            "[%] Downloading Image #77 from https://www.iclarified.com/images/news/36867/157870/157870.jpg\n",
            "[%] File Downloaded !\n",
            "\n",
            "[%] Downloading Image #78 from https://www.noncount.com/wp-content/uploads/Blue-Raspberry-Smoothie.png\n",
            "[%] File Downloaded !\n",
            "\n",
            "[%] Downloading Image #79 from http://thetreecenter.com/wp-content/uploads/dwarf-alberta-spruce-1.jpg\n",
            "[%] File Downloaded !\n",
            "\n",
            "[%] Downloading Image #80 from https://cdn.shopify.com/s/files/1/1507/9940/products/south-africa-sweet-sapphire-black-grape-800gpack-grapes-3_1200x1200.jpg?v=1587708632\n",
            "[%] File Downloaded !\n",
            "\n",
            "\n",
            "\n",
            "[!!]Indexing page: 10\n",
            "\n",
            "[%] Indexed 4 Images on Page 10.\n",
            "\n",
            "===============================================\n",
            "\n",
            "[%] Downloading Image #81 from https://banner2.kisspng.com/20171201/f08/blood-png-image-5a217a97ae6643.3034836215121435117144.jpg\n",
            "[%] File Downloaded !\n",
            "\n",
            "[%] Downloading Image #82 from https://bugwoodcloud.org/images/1536x1024/5356661.jpg\n",
            "[%] File Downloaded !\n",
            "\n",
            "[%] Downloading Image #83 from https://banner2.kisspng.com/20171218/ddc/question-mark-png-5a381257a89243.6425987715136241516905.jpg\n",
            "[%] File Downloaded !\n",
            "\n",
            "[%] Downloading Image #84 from https://thegraphicsfairy.com/wp-content/uploads/blogger/_CarNcodpCMA/TT4rZBfMHXI/AAAAAAAAKj0/nhaE3Zxq62g/s1600/valentine-beauty-graphicsfairy007.jpg\n",
            "[%] File Downloaded !\n",
            "\n",
            "\n",
            "\n",
            "[!!]Indexing page: 11\n",
            "\n",
            "[%] Indexed 3 Images on Page 11.\n",
            "\n",
            "===============================================\n",
            "\n",
            "[%] Downloading Image #85 from https://bugwoodcloud.org/images/1536x1024/5356661.jpg\n",
            "[%] File Downloaded !\n",
            "\n",
            "[%] Downloading Image #86 from https://banner2.kisspng.com/20171218/ddc/question-mark-png-5a381257a89243.6425987715136241516905.jpg\n",
            "[%] File Downloaded !\n",
            "\n",
            "[%] Downloading Image #87 from https://thegraphicsfairy.com/wp-content/uploads/blogger/_CarNcodpCMA/TT4rZBfMHXI/AAAAAAAAKj0/nhaE3Zxq62g/s1600/valentine-beauty-graphicsfairy007.jpg\n",
            "[%] File Downloaded !\n",
            "\n",
            "\n",
            "\n",
            "[!!]Indexing page: 12\n",
            "\n",
            "[%] Indexed 2 Images on Page 12.\n",
            "\n",
            "===============================================\n",
            "\n",
            "[%] Downloading Image #88 from https://banner2.kisspng.com/20171218/ddc/question-mark-png-5a381257a89243.6425987715136241516905.jpg\n",
            "[%] File Downloaded !\n",
            "\n",
            "[%] Downloading Image #89 from https://thegraphicsfairy.com/wp-content/uploads/blogger/_CarNcodpCMA/TT4rZBfMHXI/AAAAAAAAKj0/nhaE3Zxq62g/s1600/valentine-beauty-graphicsfairy007.jpg\n",
            "[%] File Downloaded !\n",
            "\n",
            "\n",
            "\n",
            "[!!]Indexing page: 13\n",
            "\n",
            "[%] Indexed 1 Images on Page 13.\n",
            "\n",
            "===============================================\n",
            "\n",
            "[%] Downloading Image #90 from https://thegraphicsfairy.com/wp-content/uploads/blogger/_CarNcodpCMA/TT4rZBfMHXI/AAAAAAAAKj0/nhaE3Zxq62g/s1600/valentine-beauty-graphicsfairy007.jpg\n",
            "[%] File Downloaded !\n",
            "\n",
            "\n",
            "\n",
            "[!!]Indexing page: 14\n",
            "\n",
            "[%] Indexed 12 Images on Page 14.\n",
            "\n",
            "===============================================\n",
            "\n",
            "[%] Downloading Image #91 from http://ryanishungry.com/ebay/ebay249/50_apple_picker_bag/4.jpg\n",
            "[%] File Downloaded !\n",
            "\n",
            "[%] Downloading Image #92 from https://www.stonyfield.com/wp-content/uploads/2017/03/oatmeal-chocolate-chip-cookies_800x1200.jpg\n",
            "[%] File Downloaded !\n",
            "\n",
            "[%] Downloading Image #93 from https://www.tattoosforyou.org/wp-content/uploads/2016/03/Apple-Tattoo.jpg\n",
            "[%] File Downloaded !\n",
            "\n",
            "[%] Downloading Image #94 from https://banner2.kisspng.com/20171201/f08/blood-png-image-5a217a97ae6643.3034836215121435117144.jpg\n",
            "[%] File Downloaded !\n",
            "\n",
            "[%] Downloading Image #95 from https://thegraphicsfairy.com/wp-content/uploads/blogger/_CarNcodpCMA/TT4rZBfMHXI/AAAAAAAAKj0/nhaE3Zxq62g/s1600/valentine-beauty-graphicsfairy007.jpg\n",
            "[%] File Downloaded !\n",
            "\n",
            "[%] Downloading Image #96 from https://static01.nyt.com/images/2010/09/24/arts/24ARCI-2/SUB-ARCI-2-popup.jpg\n",
            "[%] File Downloaded !\n",
            "\n",
            "[%] Downloading Image #97 from https://bugwoodcloud.org/images/1536x1024/5356661.jpg\n",
            "[%] File Downloaded !\n",
            "\n",
            "[%] Downloading Image #98 from https://img.thedailybeast.com/image/upload/c_crop,d_placeholder_euli9k,h_1688,w_3001,x_0,y_0/dpr_2.0/c_limit,w_740/fl_lossy,q_auto/v1578718994/36603986_1578635670762557_r_x513uh\n",
            "[%] File Downloaded !\n",
            "\n",
            "[%] Downloading Image #99 from https://bugwoodcloud.org/images/768x512/1577129.jpg\n",
            "[%] File Downloaded !\n",
            "\n",
            "[%] Downloading Image #100 from http://www.beesdiy.com/wp-content/uploads/2015/10/How-to-DIY-Edible-Christmas-Tree-Platter7.jpg\n",
            "[%] File Downloaded !\n",
            "\n",
            "\n",
            "\n",
            "[%] Done. Downloaded 100 images.\n",
            "\n",
            "===============================================\n",
            "\n",
            "time: 1min 4s (started: 2021-04-23 07:39:33 +00:00)\n"
          ],
          "name": "stdout"
        }
      ]
    },
    {
      "cell_type": "code",
      "metadata": {
        "colab": {
          "base_uri": "https://localhost:8080/"
        },
        "id": "jb2SmO2XCo9p",
        "outputId": "19f200ef-d441-455b-c945-d4ab30337eff"
      },
      "source": [
        "downloader.download(\"ice cream cone\",limit=100,output_dir='images')"
      ],
      "execution_count": null,
      "outputs": [
        {
          "output_type": "stream",
          "text": [
            "\n",
            "\n",
            "[!!]Indexing page: 1\n",
            "\n",
            "[%] Indexed 11 Images on Page 1.\n",
            "\n",
            "===============================================\n",
            "\n",
            "[%] Downloading Image #1 from https://www.niskayunareformed.org/wp-content/uploads/2019/06/0575c5e8-kawaii-ice-cream-cones-pc.jpg\n",
            "[%] File Downloaded !\n",
            "\n",
            "[%] Downloading Image #2 from https://media.theveggienator.com/2018/10/img_5108-2.jpg\n",
            "[%] File Downloaded !\n",
            "\n",
            "[%] Downloading Image #3 from https://img0.etsystatic.com/015/0/5205551/il_570xN.427294972_4pjm.jpg\n",
            "[%] File Downloaded !\n",
            "\n",
            "[%] Downloading Image #4 from https://littlebitsof.com/wp-content/uploads/2014/04/DSC_0182.jpg\n",
            "[%] File Downloaded !\n",
            "\n",
            "[%] Downloading Image #5 from http://cdn.onlyinyourstate.com/wp-content/uploads/2017/05/custard-corner-ice-cream.jpg\n",
            "[%] File Downloaded !\n",
            "\n",
            "[%] Downloading Image #6 from https://c1.staticflickr.com/3/2080/2471124704_b52b8c8cbd_z.jpg?zz=1\n",
            "[%] File Downloaded !\n",
            "\n",
            "[%] Downloading Image #7 from https://www.peters.com.au/wp-content/uploads/2020/05/Drumstick_ClassicVanilla_HW.png\n",
            "[%] File Downloaded !\n",
            "\n",
            "[%] Downloading Image #8 from https://www.sartle.com/sites/default/files/images/artwork/1000965.jpg\n",
            "[%] File Downloaded !\n",
            "\n",
            "[%] Downloading Image #9 from https://www.justataste.com/wp-content/uploads/2017/05/rainbow-dipped-waffle-cones.jpg\n",
            "[!] Issue getting: https://www.justataste.com/wp-content/uploads/2017/05/rainbow-dipped-waffle-cones.jpg\n",
            "[!] Error:: HTTP Error 503: Service Temporarily Unavailable\n",
            "[%] Downloading Image #9 from https://www.doyouremember.co.uk/uploads/W2YrgIV811138666_467075566790990_8064308684721678494_n.jpg\n",
            "[Error]Invalid image, not saving https://www.doyouremember.co.uk/uploads/W2YrgIV811138666_467075566790990_8064308684721678494_n.jpg\n",
            "\n",
            "[!] Issue getting: https://www.doyouremember.co.uk/uploads/W2YrgIV811138666_467075566790990_8064308684721678494_n.jpg\n",
            "[!] Error:: No active exception to reraise\n",
            "[%] Downloading Image #9 from http://www.intimateweddings.com/wp-content/uploads/2011/04/french-fry-cones.jpg\n",
            "[%] File Downloaded !\n",
            "\n",
            "\n",
            "\n",
            "[!!]Indexing page: 2\n",
            "\n",
            "[%] Indexed 13 Images on Page 2.\n",
            "\n",
            "===============================================\n",
            "\n",
            "[%] Downloading Image #10 from https://i.ytimg.com/vi/X8LftYSp6-w/maxresdefault.jpg\n",
            "[%] File Downloaded !\n",
            "\n",
            "[%] Downloading Image #11 from http://spoonssquared.com/wp-content/uploads/2014/07/4-mini-cones.jpg\n",
            "[%] File Downloaded !\n",
            "\n",
            "[%] Downloading Image #12 from https://belgique.co.uk/shop/517-thickbox_default/dripping-cake-chocolate.jpg\n",
            "[%] File Downloaded !\n",
            "\n",
            "[%] Downloading Image #13 from https://c.stocksy.com/a/uDH400/z9/1019522.jpg\n",
            "[%] File Downloaded !\n",
            "\n",
            "[%] Downloading Image #14 from https://bestanimations.com/Food/food-animated-gif-9.gif\n",
            "[%] File Downloaded !\n",
            "\n",
            "[%] Downloading Image #15 from https://www.bing.com/th/id/OGC.c6a5f0a627a9ab08206c40b8de9440fc?pid=1.7&amp;rurl=https%3a%2f%2fbestanimations.com%2fFood%2ffood-animated-gif-9.gif&amp;ehk=Ew0G29RhYXHtxdhwHY19m%2bWYLMF1uD6Ns%2fQ5SfFgSgc%3d\n",
            "[!] Issue getting: https://www.bing.com/th/id/OGC.c6a5f0a627a9ab08206c40b8de9440fc?pid=1.7&amp;rurl=https%3a%2f%2fbestanimations.com%2fFood%2ffood-animated-gif-9.gif&amp;ehk=Ew0G29RhYXHtxdhwHY19m%2bWYLMF1uD6Ns%2fQ5SfFgSgc%3d\n",
            "[!] Error:: HTTP Error 404: Not Found\n",
            "[%] Downloading Image #15 from http://cdn.trendhunterstatic.com/thumbs/gilded-ice-cream.jpeg\n",
            "[%] File Downloaded !\n",
            "\n",
            "[%] Downloading Image #16 from http://www.businesstoday.lk/cpanel/uploader/3128/Cargills-Mafic-Ice-1.jpg.JPEG\n",
            "[%] File Downloaded !\n",
            "\n",
            "[%] Downloading Image #17 from https://mrwhippyicecream.co.uk/wp-content/uploads/2019/01/TwinSherbet99.png\n",
            "[%] File Downloaded !\n",
            "\n",
            "[%] Downloading Image #18 from https://www.craftymorning.com/wp-content/uploads/2016/05/cotton-candy-cones-party-favor.jpg\n",
            "[%] File Downloaded !\n",
            "\n",
            "[%] Downloading Image #19 from https://zolpwsuwoq-flywheel.netdna-ssl.com/wp-content/uploads/2017/09/boys-ice-cream-party-ideas.jpg\n",
            "[%] File Downloaded !\n",
            "\n",
            "[%] Downloading Image #20 from http://www.wrytoasteats.com/wp-content/uploads/2017/08/Pistachio-Ice-Cream-Served-1-2.jpg\n",
            "[%] File Downloaded !\n",
            "\n",
            "[%] Downloading Image #21 from http://echomon.co.uk/wp-content/uploads/2013/03/Hello-Kitty-Cakes-Images.jpg\n",
            "[%] File Downloaded !\n",
            "\n",
            "\n",
            "\n",
            "[!!]Indexing page: 3\n",
            "\n",
            "[%] Indexed 10 Images on Page 3.\n",
            "\n",
            "===============================================\n",
            "\n",
            "[%] Downloading Image #22 from https://img0.etsystatic.com/015/0/5205551/il_570xN.427294972_4pjm.jpg\n",
            "[%] File Downloaded !\n",
            "\n",
            "[%] Downloading Image #23 from https://www.sartle.com/sites/default/files/images/artwork/1000965.jpg\n",
            "[%] File Downloaded !\n",
            "\n",
            "[%] Downloading Image #24 from http://cdn.onlyinyourstate.com/wp-content/uploads/2017/05/custard-corner-ice-cream.jpg\n",
            "[%] File Downloaded !\n",
            "\n",
            "[%] Downloading Image #25 from https://littlebitsof.com/wp-content/uploads/2014/04/DSC_0182.jpg\n",
            "[%] File Downloaded !\n",
            "\n",
            "[%] Downloading Image #26 from https://www.peters.com.au/wp-content/uploads/2020/05/Drumstick_ClassicVanilla_HW.png\n",
            "[%] File Downloaded !\n",
            "\n",
            "[%] Downloading Image #27 from http://www.intimateweddings.com/wp-content/uploads/2011/04/french-fry-cones.jpg\n",
            "[%] File Downloaded !\n",
            "\n",
            "[%] Downloading Image #28 from https://www.justataste.com/wp-content/uploads/2017/05/rainbow-dipped-waffle-cones.jpg\n",
            "[!] Issue getting: https://www.justataste.com/wp-content/uploads/2017/05/rainbow-dipped-waffle-cones.jpg\n",
            "[!] Error:: HTTP Error 503: Service Temporarily Unavailable\n",
            "[%] Downloading Image #28 from https://media.theveggienator.com/2018/10/img_5108-2.jpg\n",
            "[%] File Downloaded !\n",
            "\n",
            "[%] Downloading Image #29 from https://c1.staticflickr.com/3/2080/2471124704_b52b8c8cbd_z.jpg?zz=1\n",
            "[%] File Downloaded !\n",
            "\n",
            "[%] Downloading Image #30 from https://www.doyouremember.co.uk/uploads/W2YrgIV811138666_467075566790990_8064308684721678494_n.jpg\n",
            "[Error]Invalid image, not saving https://www.doyouremember.co.uk/uploads/W2YrgIV811138666_467075566790990_8064308684721678494_n.jpg\n",
            "\n",
            "[!] Issue getting: https://www.doyouremember.co.uk/uploads/W2YrgIV811138666_467075566790990_8064308684721678494_n.jpg\n",
            "[!] Error:: No active exception to reraise\n",
            "\n",
            "\n",
            "[!!]Indexing page: 4\n",
            "\n",
            "[%] Indexed 9 Images on Page 4.\n",
            "\n",
            "===============================================\n",
            "\n",
            "[%] Downloading Image #30 from http://cdn.onlyinyourstate.com/wp-content/uploads/2017/05/custard-corner-ice-cream.jpg\n",
            "[%] File Downloaded !\n",
            "\n",
            "[%] Downloading Image #31 from https://www.doyouremember.co.uk/uploads/W2YrgIV811138666_467075566790990_8064308684721678494_n.jpg\n",
            "[Error]Invalid image, not saving https://www.doyouremember.co.uk/uploads/W2YrgIV811138666_467075566790990_8064308684721678494_n.jpg\n",
            "\n",
            "[!] Issue getting: https://www.doyouremember.co.uk/uploads/W2YrgIV811138666_467075566790990_8064308684721678494_n.jpg\n",
            "[!] Error:: No active exception to reraise\n",
            "[%] Downloading Image #31 from https://www.peters.com.au/wp-content/uploads/2020/05/Drumstick_ClassicVanilla_HW.png\n",
            "[%] File Downloaded !\n",
            "\n",
            "[%] Downloading Image #32 from https://www.justataste.com/wp-content/uploads/2017/05/rainbow-dipped-waffle-cones.jpg\n",
            "[!] Issue getting: https://www.justataste.com/wp-content/uploads/2017/05/rainbow-dipped-waffle-cones.jpg\n",
            "[!] Error:: HTTP Error 503: Service Temporarily Unavailable\n",
            "[%] Downloading Image #32 from http://www.intimateweddings.com/wp-content/uploads/2011/04/french-fry-cones.jpg\n",
            "[%] File Downloaded !\n",
            "\n",
            "[%] Downloading Image #33 from https://c1.staticflickr.com/3/2080/2471124704_b52b8c8cbd_z.jpg?zz=1\n",
            "[%] File Downloaded !\n",
            "\n",
            "[%] Downloading Image #34 from https://www.sartle.com/sites/default/files/images/artwork/1000965.jpg\n",
            "[%] File Downloaded !\n",
            "\n",
            "[%] Downloading Image #35 from https://littlebitsof.com/wp-content/uploads/2014/04/DSC_0182.jpg\n",
            "[%] File Downloaded !\n",
            "\n",
            "[%] Downloading Image #36 from https://media.theveggienator.com/2018/10/img_5108-2.jpg\n",
            "[%] File Downloaded !\n",
            "\n",
            "\n",
            "\n",
            "[!!]Indexing page: 5\n",
            "\n",
            "[%] Indexed 8 Images on Page 5.\n",
            "\n",
            "===============================================\n",
            "\n",
            "[%] Downloading Image #37 from https://www.peters.com.au/wp-content/uploads/2020/05/Drumstick_ClassicVanilla_HW.png\n",
            "[%] File Downloaded !\n",
            "\n",
            "[%] Downloading Image #38 from https://www.justataste.com/wp-content/uploads/2017/05/rainbow-dipped-waffle-cones.jpg\n",
            "[!] Issue getting: https://www.justataste.com/wp-content/uploads/2017/05/rainbow-dipped-waffle-cones.jpg\n",
            "[!] Error:: HTTP Error 503: Service Temporarily Unavailable\n",
            "[%] Downloading Image #38 from https://c1.staticflickr.com/3/2080/2471124704_b52b8c8cbd_z.jpg?zz=1\n",
            "[%] File Downloaded !\n",
            "\n",
            "[%] Downloading Image #39 from https://media.theveggienator.com/2018/10/img_5108-2.jpg\n",
            "[%] File Downloaded !\n",
            "\n",
            "[%] Downloading Image #40 from https://littlebitsof.com/wp-content/uploads/2014/04/DSC_0182.jpg\n",
            "[%] File Downloaded !\n",
            "\n",
            "[%] Downloading Image #41 from http://www.intimateweddings.com/wp-content/uploads/2011/04/french-fry-cones.jpg\n",
            "[%] File Downloaded !\n",
            "\n",
            "[%] Downloading Image #42 from https://www.doyouremember.co.uk/uploads/W2YrgIV811138666_467075566790990_8064308684721678494_n.jpg\n",
            "[Error]Invalid image, not saving https://www.doyouremember.co.uk/uploads/W2YrgIV811138666_467075566790990_8064308684721678494_n.jpg\n",
            "\n",
            "[!] Issue getting: https://www.doyouremember.co.uk/uploads/W2YrgIV811138666_467075566790990_8064308684721678494_n.jpg\n",
            "[!] Error:: No active exception to reraise\n",
            "[%] Downloading Image #42 from https://www.sartle.com/sites/default/files/images/artwork/1000965.jpg\n",
            "[%] File Downloaded !\n",
            "\n",
            "\n",
            "\n",
            "[!!]Indexing page: 6\n",
            "\n",
            "[%] Indexed 9 Images on Page 6.\n",
            "\n",
            "===============================================\n",
            "\n",
            "[%] Downloading Image #43 from http://www.wrytoasteats.com/wp-content/uploads/2017/08/Pistachio-Ice-Cream-Served-1-2.jpg\n",
            "[%] File Downloaded !\n",
            "\n",
            "[%] Downloading Image #44 from http://spoonssquared.com/wp-content/uploads/2014/07/4-mini-cones.jpg\n",
            "[%] File Downloaded !\n",
            "\n",
            "[%] Downloading Image #45 from https://belgique.co.uk/shop/517-thickbox_default/dripping-cake-chocolate.jpg\n",
            "[%] File Downloaded !\n",
            "\n",
            "[%] Downloading Image #46 from http://www.businesstoday.lk/cpanel/uploader/3128/Cargills-Mafic-Ice-1.jpg.JPEG\n",
            "[%] File Downloaded !\n",
            "\n",
            "[%] Downloading Image #47 from https://bestanimations.com/Food/food-animated-gif-9.gif\n",
            "[%] File Downloaded !\n",
            "\n",
            "[%] Downloading Image #48 from https://www.bing.com/th/id/OGC.c6a5f0a627a9ab08206c40b8de9440fc?pid=1.7&amp;rurl=https%3a%2f%2fbestanimations.com%2fFood%2ffood-animated-gif-9.gif&amp;ehk=Ew0G29RhYXHtxdhwHY19m%2bWYLMF1uD6Ns%2fQ5SfFgSgc%3d\n",
            "[!] Issue getting: https://www.bing.com/th/id/OGC.c6a5f0a627a9ab08206c40b8de9440fc?pid=1.7&amp;rurl=https%3a%2f%2fbestanimations.com%2fFood%2ffood-animated-gif-9.gif&amp;ehk=Ew0G29RhYXHtxdhwHY19m%2bWYLMF1uD6Ns%2fQ5SfFgSgc%3d\n",
            "[!] Error:: HTTP Error 404: Not Found\n",
            "[%] Downloading Image #48 from http://echomon.co.uk/wp-content/uploads/2013/03/Hello-Kitty-Cakes-Images.jpg\n",
            "[%] File Downloaded !\n",
            "\n",
            "[%] Downloading Image #49 from https://mrwhippyicecream.co.uk/wp-content/uploads/2019/01/TwinSherbet99.png\n",
            "[%] File Downloaded !\n",
            "\n",
            "[%] Downloading Image #50 from https://zolpwsuwoq-flywheel.netdna-ssl.com/wp-content/uploads/2017/09/boys-ice-cream-party-ideas.jpg\n",
            "[%] File Downloaded !\n",
            "\n",
            "\n",
            "\n",
            "[!!]Indexing page: 7\n",
            "\n",
            "[%] Indexed 6 Images on Page 7.\n",
            "\n",
            "===============================================\n",
            "\n",
            "[%] Downloading Image #51 from https://c1.staticflickr.com/3/2080/2471124704_b52b8c8cbd_z.jpg?zz=1\n",
            "[%] File Downloaded !\n",
            "\n",
            "[%] Downloading Image #52 from https://littlebitsof.com/wp-content/uploads/2014/04/DSC_0182.jpg\n",
            "[%] File Downloaded !\n",
            "\n",
            "[%] Downloading Image #53 from https://www.doyouremember.co.uk/uploads/W2YrgIV811138666_467075566790990_8064308684721678494_n.jpg\n",
            "[Error]Invalid image, not saving https://www.doyouremember.co.uk/uploads/W2YrgIV811138666_467075566790990_8064308684721678494_n.jpg\n",
            "\n",
            "[!] Issue getting: https://www.doyouremember.co.uk/uploads/W2YrgIV811138666_467075566790990_8064308684721678494_n.jpg\n",
            "[!] Error:: No active exception to reraise\n",
            "[%] Downloading Image #53 from http://www.intimateweddings.com/wp-content/uploads/2011/04/french-fry-cones.jpg\n",
            "[%] File Downloaded !\n",
            "\n",
            "[%] Downloading Image #54 from https://www.sartle.com/sites/default/files/images/artwork/1000965.jpg\n",
            "[%] File Downloaded !\n",
            "\n",
            "[%] Downloading Image #55 from https://media.theveggienator.com/2018/10/img_5108-2.jpg\n",
            "[%] File Downloaded !\n",
            "\n",
            "\n",
            "\n",
            "[!!]Indexing page: 8\n",
            "\n",
            "[%] Indexed 5 Images on Page 8.\n",
            "\n",
            "===============================================\n",
            "\n",
            "[%] Downloading Image #56 from https://littlebitsof.com/wp-content/uploads/2014/04/DSC_0182.jpg\n",
            "[%] File Downloaded !\n",
            "\n",
            "[%] Downloading Image #57 from https://www.doyouremember.co.uk/uploads/W2YrgIV811138666_467075566790990_8064308684721678494_n.jpg\n",
            "[Error]Invalid image, not saving https://www.doyouremember.co.uk/uploads/W2YrgIV811138666_467075566790990_8064308684721678494_n.jpg\n",
            "\n",
            "[!] Issue getting: https://www.doyouremember.co.uk/uploads/W2YrgIV811138666_467075566790990_8064308684721678494_n.jpg\n",
            "[!] Error:: No active exception to reraise\n",
            "[%] Downloading Image #57 from https://www.sartle.com/sites/default/files/images/artwork/1000965.jpg\n",
            "[%] File Downloaded !\n",
            "\n",
            "[%] Downloading Image #58 from https://media.theveggienator.com/2018/10/img_5108-2.jpg\n",
            "[%] File Downloaded !\n",
            "\n",
            "[%] Downloading Image #59 from http://www.intimateweddings.com/wp-content/uploads/2011/04/french-fry-cones.jpg\n",
            "[%] File Downloaded !\n",
            "\n",
            "\n",
            "\n",
            "[!!]Indexing page: 9\n",
            "\n",
            "[%] Indexed 4 Images on Page 9.\n",
            "\n",
            "===============================================\n",
            "\n",
            "[%] Downloading Image #60 from https://www.doyouremember.co.uk/uploads/W2YrgIV811138666_467075566790990_8064308684721678494_n.jpg\n",
            "[Error]Invalid image, not saving https://www.doyouremember.co.uk/uploads/W2YrgIV811138666_467075566790990_8064308684721678494_n.jpg\n",
            "\n",
            "[!] Issue getting: https://www.doyouremember.co.uk/uploads/W2YrgIV811138666_467075566790990_8064308684721678494_n.jpg\n",
            "[!] Error:: No active exception to reraise\n",
            "[%] Downloading Image #60 from https://www.sartle.com/sites/default/files/images/artwork/1000965.jpg\n",
            "[%] File Downloaded !\n",
            "\n",
            "[%] Downloading Image #61 from https://media.theveggienator.com/2018/10/img_5108-2.jpg\n",
            "[%] File Downloaded !\n",
            "\n",
            "[%] Downloading Image #62 from http://www.intimateweddings.com/wp-content/uploads/2011/04/french-fry-cones.jpg\n",
            "[%] File Downloaded !\n",
            "\n",
            "\n",
            "\n",
            "[!!]Indexing page: 10\n",
            "\n",
            "[%] Indexed 3 Images on Page 10.\n",
            "\n",
            "===============================================\n",
            "\n",
            "[%] Downloading Image #63 from https://www.sartle.com/sites/default/files/images/artwork/1000965.jpg\n",
            "[%] File Downloaded !\n",
            "\n",
            "[%] Downloading Image #64 from https://media.theveggienator.com/2018/10/img_5108-2.jpg\n",
            "[%] File Downloaded !\n",
            "\n",
            "[%] Downloading Image #65 from http://www.intimateweddings.com/wp-content/uploads/2011/04/french-fry-cones.jpg\n",
            "[%] File Downloaded !\n",
            "\n",
            "\n",
            "\n",
            "[!!]Indexing page: 11\n",
            "\n",
            "[%] Indexed 2 Images on Page 11.\n",
            "\n",
            "===============================================\n",
            "\n",
            "[%] Downloading Image #66 from https://media.theveggienator.com/2018/10/img_5108-2.jpg\n",
            "[%] File Downloaded !\n",
            "\n",
            "[%] Downloading Image #67 from http://www.intimateweddings.com/wp-content/uploads/2011/04/french-fry-cones.jpg\n",
            "[%] File Downloaded !\n",
            "\n",
            "\n",
            "\n",
            "[!!]Indexing page: 12\n",
            "\n",
            "[%] Indexed 1 Images on Page 12.\n",
            "\n",
            "===============================================\n",
            "\n",
            "[%] Downloading Image #68 from http://www.intimateweddings.com/wp-content/uploads/2011/04/french-fry-cones.jpg\n",
            "[%] File Downloaded !\n",
            "\n",
            "\n",
            "\n",
            "[!!]Indexing page: 13\n",
            "\n",
            "[%] Indexed 11 Images on Page 13.\n",
            "\n",
            "===============================================\n",
            "\n",
            "[%] Downloading Image #69 from https://www.niskayunareformed.org/wp-content/uploads/2019/06/0575c5e8-kawaii-ice-cream-cones-pc.jpg\n",
            "[%] File Downloaded !\n",
            "\n",
            "[%] Downloading Image #70 from https://media.theveggienator.com/2018/10/img_5108-2.jpg\n",
            "[%] File Downloaded !\n",
            "\n",
            "[%] Downloading Image #71 from https://img0.etsystatic.com/015/0/5205551/il_570xN.427294972_4pjm.jpg\n",
            "[%] File Downloaded !\n",
            "\n",
            "[%] Downloading Image #72 from https://littlebitsof.com/wp-content/uploads/2014/04/DSC_0182.jpg\n",
            "[%] File Downloaded !\n",
            "\n",
            "[%] Downloading Image #73 from http://cdn.onlyinyourstate.com/wp-content/uploads/2017/05/custard-corner-ice-cream.jpg\n",
            "[%] File Downloaded !\n",
            "\n",
            "[%] Downloading Image #74 from https://c1.staticflickr.com/3/2080/2471124704_b52b8c8cbd_z.jpg?zz=1\n",
            "[%] File Downloaded !\n",
            "\n",
            "[%] Downloading Image #75 from https://www.peters.com.au/wp-content/uploads/2020/05/Drumstick_ClassicVanilla_HW.png\n",
            "[%] File Downloaded !\n",
            "\n",
            "[%] Downloading Image #76 from https://www.sartle.com/sites/default/files/images/artwork/1000965.jpg\n",
            "[%] File Downloaded !\n",
            "\n",
            "[%] Downloading Image #77 from https://www.justataste.com/wp-content/uploads/2017/05/rainbow-dipped-waffle-cones.jpg\n",
            "[!] Issue getting: https://www.justataste.com/wp-content/uploads/2017/05/rainbow-dipped-waffle-cones.jpg\n",
            "[!] Error:: HTTP Error 503: Service Temporarily Unavailable\n",
            "[%] Downloading Image #77 from https://www.doyouremember.co.uk/uploads/W2YrgIV811138666_467075566790990_8064308684721678494_n.jpg\n",
            "[Error]Invalid image, not saving https://www.doyouremember.co.uk/uploads/W2YrgIV811138666_467075566790990_8064308684721678494_n.jpg\n",
            "\n",
            "[!] Issue getting: https://www.doyouremember.co.uk/uploads/W2YrgIV811138666_467075566790990_8064308684721678494_n.jpg\n",
            "[!] Error:: No active exception to reraise\n",
            "[%] Downloading Image #77 from http://www.intimateweddings.com/wp-content/uploads/2011/04/french-fry-cones.jpg\n",
            "[%] File Downloaded !\n",
            "\n",
            "\n",
            "\n",
            "[!!]Indexing page: 14\n",
            "\n",
            "[%] Indexed 11 Images on Page 14.\n",
            "\n",
            "===============================================\n",
            "\n",
            "[%] Downloading Image #78 from https://www.niskayunareformed.org/wp-content/uploads/2019/06/0575c5e8-kawaii-ice-cream-cones-pc.jpg\n",
            "[%] File Downloaded !\n",
            "\n",
            "[%] Downloading Image #79 from https://media.theveggienator.com/2018/10/img_5108-2.jpg\n",
            "[%] File Downloaded !\n",
            "\n",
            "[%] Downloading Image #80 from https://img0.etsystatic.com/015/0/5205551/il_570xN.427294972_4pjm.jpg\n",
            "[Error]Invalid image, not saving https://img0.etsystatic.com/015/0/5205551/il_570xN.427294972_4pjm.jpg\n",
            "\n",
            "[!] Issue getting: https://img0.etsystatic.com/015/0/5205551/il_570xN.427294972_4pjm.jpg\n",
            "[!] Error:: No active exception to reraise\n",
            "[%] Downloading Image #80 from https://littlebitsof.com/wp-content/uploads/2014/04/DSC_0182.jpg\n",
            "[%] File Downloaded !\n",
            "\n",
            "[%] Downloading Image #81 from http://cdn.onlyinyourstate.com/wp-content/uploads/2017/05/custard-corner-ice-cream.jpg\n",
            "[%] File Downloaded !\n",
            "\n",
            "[%] Downloading Image #82 from https://c1.staticflickr.com/3/2080/2471124704_b52b8c8cbd_z.jpg?zz=1\n",
            "[%] File Downloaded !\n",
            "\n",
            "[%] Downloading Image #83 from https://www.peters.com.au/wp-content/uploads/2020/05/Drumstick_ClassicVanilla_HW.png\n",
            "[%] File Downloaded !\n",
            "\n",
            "[%] Downloading Image #84 from https://www.sartle.com/sites/default/files/images/artwork/1000965.jpg\n",
            "[%] File Downloaded !\n",
            "\n",
            "[%] Downloading Image #85 from https://www.justataste.com/wp-content/uploads/2017/05/rainbow-dipped-waffle-cones.jpg\n",
            "[!] Issue getting: https://www.justataste.com/wp-content/uploads/2017/05/rainbow-dipped-waffle-cones.jpg\n",
            "[!] Error:: HTTP Error 503: Service Temporarily Unavailable\n",
            "[%] Downloading Image #85 from https://www.doyouremember.co.uk/uploads/W2YrgIV811138666_467075566790990_8064308684721678494_n.jpg\n",
            "[Error]Invalid image, not saving https://www.doyouremember.co.uk/uploads/W2YrgIV811138666_467075566790990_8064308684721678494_n.jpg\n",
            "\n",
            "[!] Issue getting: https://www.doyouremember.co.uk/uploads/W2YrgIV811138666_467075566790990_8064308684721678494_n.jpg\n",
            "[!] Error:: No active exception to reraise\n",
            "[%] Downloading Image #85 from http://www.intimateweddings.com/wp-content/uploads/2011/04/french-fry-cones.jpg\n",
            "[%] File Downloaded !\n",
            "\n",
            "\n",
            "\n",
            "[!!]Indexing page: 15\n",
            "\n",
            "[%] Indexed 11 Images on Page 15.\n",
            "\n",
            "===============================================\n",
            "\n",
            "[%] Downloading Image #86 from https://www.niskayunareformed.org/wp-content/uploads/2019/06/0575c5e8-kawaii-ice-cream-cones-pc.jpg\n",
            "[%] File Downloaded !\n",
            "\n",
            "[%] Downloading Image #87 from https://media.theveggienator.com/2018/10/img_5108-2.jpg\n",
            "[%] File Downloaded !\n",
            "\n",
            "[%] Downloading Image #88 from https://img0.etsystatic.com/015/0/5205551/il_570xN.427294972_4pjm.jpg\n",
            "[Error]Invalid image, not saving https://img0.etsystatic.com/015/0/5205551/il_570xN.427294972_4pjm.jpg\n",
            "\n",
            "[!] Issue getting: https://img0.etsystatic.com/015/0/5205551/il_570xN.427294972_4pjm.jpg\n",
            "[!] Error:: No active exception to reraise\n",
            "[%] Downloading Image #88 from https://littlebitsof.com/wp-content/uploads/2014/04/DSC_0182.jpg\n",
            "[%] File Downloaded !\n",
            "\n",
            "[%] Downloading Image #89 from http://cdn.onlyinyourstate.com/wp-content/uploads/2017/05/custard-corner-ice-cream.jpg\n",
            "[%] File Downloaded !\n",
            "\n",
            "[%] Downloading Image #90 from https://c1.staticflickr.com/3/2080/2471124704_b52b8c8cbd_z.jpg?zz=1\n",
            "[%] File Downloaded !\n",
            "\n",
            "[%] Downloading Image #91 from https://www.peters.com.au/wp-content/uploads/2020/05/Drumstick_ClassicVanilla_HW.png\n",
            "[%] File Downloaded !\n",
            "\n",
            "[%] Downloading Image #92 from https://www.sartle.com/sites/default/files/images/artwork/1000965.jpg\n",
            "[%] File Downloaded !\n",
            "\n",
            "[%] Downloading Image #93 from https://www.justataste.com/wp-content/uploads/2017/05/rainbow-dipped-waffle-cones.jpg\n",
            "[!] Issue getting: https://www.justataste.com/wp-content/uploads/2017/05/rainbow-dipped-waffle-cones.jpg\n",
            "[!] Error:: HTTP Error 503: Service Temporarily Unavailable\n",
            "[%] Downloading Image #93 from https://www.doyouremember.co.uk/uploads/W2YrgIV811138666_467075566790990_8064308684721678494_n.jpg\n",
            "[Error]Invalid image, not saving https://www.doyouremember.co.uk/uploads/W2YrgIV811138666_467075566790990_8064308684721678494_n.jpg\n",
            "\n",
            "[!] Issue getting: https://www.doyouremember.co.uk/uploads/W2YrgIV811138666_467075566790990_8064308684721678494_n.jpg\n",
            "[!] Error:: No active exception to reraise\n",
            "[%] Downloading Image #93 from http://www.intimateweddings.com/wp-content/uploads/2011/04/french-fry-cones.jpg\n",
            "[%] File Downloaded !\n",
            "\n",
            "\n",
            "\n",
            "[!!]Indexing page: 16\n",
            "\n",
            "[%] Indexed 11 Images on Page 16.\n",
            "\n",
            "===============================================\n",
            "\n",
            "[%] Downloading Image #94 from https://www.niskayunareformed.org/wp-content/uploads/2019/06/0575c5e8-kawaii-ice-cream-cones-pc.jpg\n",
            "[%] File Downloaded !\n",
            "\n",
            "[%] Downloading Image #95 from https://media.theveggienator.com/2018/10/img_5108-2.jpg\n",
            "[%] File Downloaded !\n",
            "\n",
            "[%] Downloading Image #96 from https://img0.etsystatic.com/015/0/5205551/il_570xN.427294972_4pjm.jpg\n",
            "[%] File Downloaded !\n",
            "\n",
            "[%] Downloading Image #97 from https://littlebitsof.com/wp-content/uploads/2014/04/DSC_0182.jpg\n",
            "[%] File Downloaded !\n",
            "\n",
            "[%] Downloading Image #98 from http://cdn.onlyinyourstate.com/wp-content/uploads/2017/05/custard-corner-ice-cream.jpg\n",
            "[%] File Downloaded !\n",
            "\n",
            "[%] Downloading Image #99 from https://c1.staticflickr.com/3/2080/2471124704_b52b8c8cbd_z.jpg?zz=1\n",
            "[%] File Downloaded !\n",
            "\n",
            "[%] Downloading Image #100 from https://www.peters.com.au/wp-content/uploads/2020/05/Drumstick_ClassicVanilla_HW.png\n",
            "[%] File Downloaded !\n",
            "\n",
            "\n",
            "\n",
            "[%] Done. Downloaded 100 images.\n",
            "\n",
            "===============================================\n",
            "\n",
            "time: 11min 5s (started: 2021-04-23 07:40:37 +00:00)\n"
          ],
          "name": "stdout"
        }
      ]
    },
    {
      "cell_type": "code",
      "metadata": {
        "colab": {
          "base_uri": "https://localhost:8080/"
        },
        "id": "yGXS0ByIYj07",
        "outputId": "fcc77154-f97e-42aa-9950-2df5db899101"
      },
      "source": [
        "import numpy as np\n",
        "\n",
        "a=np.array([[1,2,3,4,5],\n",
        "            [4,5,6,7,8]])\n",
        "a.ndim"
      ],
      "execution_count": null,
      "outputs": [
        {
          "output_type": "execute_result",
          "data": {
            "text/plain": [
              "2"
            ]
          },
          "metadata": {
            "tags": []
          },
          "execution_count": 26
        },
        {
          "output_type": "stream",
          "text": [
            "time: 8.67 ms (started: 2021-04-23 07:51:42 +00:00)\n"
          ],
          "name": "stdout"
        }
      ]
    },
    {
      "cell_type": "code",
      "metadata": {
        "colab": {
          "base_uri": "https://localhost:8080/"
        },
        "id": "XPYuV-fuYx1x",
        "outputId": "54e92383-dc0b-4cf9-bf02-aaca06cfbfa0"
      },
      "source": [
        "#converting matrix gto vector-flatten\n",
        "a.flatten()"
      ],
      "execution_count": null,
      "outputs": [
        {
          "output_type": "execute_result",
          "data": {
            "text/plain": [
              "array([1, 2, 3, 4, 5, 4, 5, 6, 7, 8])"
            ]
          },
          "metadata": {
            "tags": []
          },
          "execution_count": 27
        },
        {
          "output_type": "stream",
          "text": [
            "time: 10.3 ms (started: 2021-04-23 07:51:42 +00:00)\n"
          ],
          "name": "stdout"
        }
      ]
    },
    {
      "cell_type": "code",
      "metadata": {
        "id": "PqSZIzZwViaH",
        "colab": {
          "base_uri": "https://localhost:8080/"
        },
        "outputId": "1626e91c-16a8-4b01-aca9-5e2ff803aebf"
      },
      "source": [
        "#Preprocessing\n",
        "#Here first Resizing is done\n",
        "#Then Flattening is done\n",
        "\n",
        "import os\n",
        "import matplotlib.pyplot as plt\n",
        "import numpy as np\n",
        "from skimage.io import imread \n",
        "from skimage.transform import resize\n",
        "\n",
        "\n",
        "target=[]\n",
        "images=[]\n",
        "flat_data=[]\n",
        "\n",
        "DATADIR='/content/images'\n",
        "CATEGORIES=['apple fruit','pretty sunflower','ice cream cone']\n",
        "\n",
        "for category in CATEGORIES:\n",
        "  class_num=CATEGORIES.index(category)#label encoding the values\n",
        "  path=os.path.join(DATADIR,category)#create  path to use all the images\n",
        "  for img in os.listdir(path):\n",
        "    img_arr=imread(os.path.join(path,img))\n",
        "    #plt.imshow(img_arr)\n",
        "    #Resizing:Normalizes the value from 0 to 1\n",
        "    img_resized=resize(img_arr,(150,150,3))\n",
        "    flat_data.append(img_resized.flatten())\n",
        "    images.append(img_resized)\n",
        "    target.append(class_num)\n",
        "\n",
        "#Flattening\n",
        "flat_data=np.array(flat_data)\n",
        "target=np.array(target)\n",
        "images=np.array(images)"
      ],
      "execution_count": null,
      "outputs": [
        {
          "output_type": "stream",
          "text": [
            "time: 4min 46s (started: 2021-04-23 07:54:18 +00:00)\n"
          ],
          "name": "stdout"
        }
      ]
    },
    {
      "cell_type": "code",
      "metadata": {
        "id": "qUQ5RouUaQJh",
        "colab": {
          "base_uri": "https://localhost:8080/"
        },
        "outputId": "005dbb88-464c-4324-c3f2-2aee65acf42a"
      },
      "source": [
        "len(flat_data[0])#150*150*3\n",
        "\n"
      ],
      "execution_count": null,
      "outputs": [
        {
          "output_type": "execute_result",
          "data": {
            "text/plain": [
              "67500"
            ]
          },
          "metadata": {
            "tags": []
          },
          "execution_count": 30
        },
        {
          "output_type": "stream",
          "text": [
            "time: 5.76 ms (started: 2021-04-23 08:02:11 +00:00)\n"
          ],
          "name": "stdout"
        }
      ]
    },
    {
      "cell_type": "code",
      "metadata": {
        "id": "llzCeBf5fLmn",
        "colab": {
          "base_uri": "https://localhost:8080/"
        },
        "outputId": "1ef781e9-7e45-4e00-8b1c-a9064895e5c5"
      },
      "source": [
        "target"
      ],
      "execution_count": null,
      "outputs": [
        {
          "output_type": "execute_result",
          "data": {
            "text/plain": [
              "array([0, 0, 0, 0, 0, 0, 0, 0, 0, 0, 0, 0, 0, 0, 0, 0, 0, 0, 0, 0, 0, 0,\n",
              "       0, 0, 0, 0, 0, 0, 0, 0, 0, 0, 0, 0, 0, 0, 0, 0, 0, 0, 0, 0, 0, 0,\n",
              "       0, 0, 0, 0, 0, 0, 0, 0, 0, 0, 0, 0, 0, 0, 0, 0, 0, 0, 0, 0, 0, 0,\n",
              "       0, 0, 0, 0, 0, 0, 0, 0, 0, 0, 0, 0, 0, 0, 0, 0, 0, 0, 0, 0, 0, 0,\n",
              "       0, 0, 0, 0, 0, 0, 0, 0, 0, 0, 0, 0, 0, 0, 0, 1, 1, 1, 1, 1, 1, 1,\n",
              "       1, 1, 1, 1, 1, 1, 1, 1, 1, 1, 1, 1, 1, 1, 1, 1, 1, 1, 1, 1, 1, 1,\n",
              "       1, 1, 1, 1, 1, 1, 1, 1, 1, 1, 1, 1, 1, 1, 1, 1, 1, 1, 1, 1, 1, 1,\n",
              "       1, 1, 1, 1, 1, 1, 1, 1, 1, 1, 1, 1, 1, 1, 1, 1, 1, 1, 1, 1, 1, 1,\n",
              "       1, 1, 1, 1, 1, 1, 1, 1, 1, 1, 1, 1, 1, 1, 1, 1, 1, 1, 1, 1, 1, 1,\n",
              "       1, 1, 1, 1, 1, 2, 2, 2, 2, 2, 2, 2, 2, 2, 2, 2, 2, 2, 2, 2, 2, 2,\n",
              "       2, 2, 2, 2, 2, 2, 2, 2, 2, 2, 2, 2, 2, 2, 2, 2, 2, 2, 2, 2, 2, 2,\n",
              "       2, 2, 2, 2, 2, 2, 2, 2, 2, 2, 2, 2, 2, 2, 2, 2, 2, 2, 2, 2, 2, 2,\n",
              "       2, 2, 2, 2, 2, 2, 2, 2, 2, 2, 2, 2, 2, 2, 2, 2, 2, 2, 2, 2, 2, 2,\n",
              "       2, 2, 2, 2, 2, 2, 2, 2, 2, 2, 2, 2, 2, 2, 2, 2, 2, 2, 2, 2, 2, 2,\n",
              "       2, 2, 2, 2, 2, 2, 2, 2, 2, 2, 2, 2, 2, 2, 2, 2])"
            ]
          },
          "metadata": {
            "tags": []
          },
          "execution_count": 31
        },
        {
          "output_type": "stream",
          "text": [
            "time: 7.8 ms (started: 2021-04-23 08:02:15 +00:00)\n"
          ],
          "name": "stdout"
        }
      ]
    },
    {
      "cell_type": "code",
      "metadata": {
        "id": "zsCdqAu4f4Ra",
        "colab": {
          "base_uri": "https://localhost:8080/",
          "height": 298
        },
        "outputId": "1918a8fc-0876-4e2b-907f-9837432efcc8"
      },
      "source": [
        "unique,count=np.unique(target,return_counts=True)\n",
        "plt.bar(CATEGORIES,count)"
      ],
      "execution_count": null,
      "outputs": [
        {
          "output_type": "execute_result",
          "data": {
            "text/plain": [
              "<BarContainer object of 3 artists>"
            ]
          },
          "metadata": {
            "tags": []
          },
          "execution_count": 32
        },
        {
          "output_type": "display_data",
          "data": {
            "image/png": "[encoded data removed]",
            "text/plain": [
              "<Figure size 432x288 with 1 Axes>"
            ]
          },
          "metadata": {
            "tags": [],
            "needs_background": "light"
          }
        },
        {
          "output_type": "stream",
          "text": [
            "time: 174 ms (started: 2021-04-23 08:02:18 +00:00)\n"
          ],
          "name": "stdout"
        }
      ]
    },
    {
      "cell_type": "code",
      "metadata": {
        "id": "57wHcdzThUCQ",
        "colab": {
          "base_uri": "https://localhost:8080/"
        },
        "outputId": "656d5be3-c9d4-4dfa-88bd-7033947d283a"
      },
      "source": [
        "#Splitting Data into Training and Testing\n",
        "from sklearn.model_selection import train_test_split\n",
        "x_train,x_test,y_train,y_test=train_test_split(flat_data,target,test_size=0.3,random_state=109)"
      ],
      "execution_count": null,
      "outputs": [
        {
          "output_type": "stream",
          "text": [
            "time: 239 ms (started: 2021-04-23 08:02:24 +00:00)\n"
          ],
          "name": "stdout"
        }
      ]
    },
    {
      "cell_type": "code",
      "metadata": {
        "id": "XmO4rxa8iMzL",
        "colab": {
          "base_uri": "https://localhost:8080/"
        },
        "outputId": "ca1a32e0-5e6b-4684-cfd8-f1a4452c6137"
      },
      "source": [
        "from sklearn.model_selection import GridSearchCV\n",
        "from sklearn import svm\n",
        "param_grid=[\n",
        "            {'C':[1,10,100,1000],'kernel':['linear']},\n",
        "            {'C':[1,10,100,1000],'gamma':[0.001,0.0001],'kernel':['rbf']},\n",
        "]\n",
        "\n",
        "\n",
        "svc=svm.SVC(probability=True)\n",
        "clf=GridSearchCV(svc,param_grid)\n",
        "clf.fit(x_train,y_train)"
      ],
      "execution_count": null,
      "outputs": [
        {
          "output_type": "execute_result",
          "data": {
            "text/plain": [
              "GridSearchCV(cv=None, error_score=nan,\n",
              "             estimator=SVC(C=1.0, break_ties=False, cache_size=200,\n",
              "                           class_weight=None, coef0=0.0,\n",
              "                           decision_function_shape='ovr', degree=3,\n",
              "                           gamma='scale', kernel='rbf', max_iter=-1,\n",
              "                           probability=True, random_state=None, shrinking=True,\n",
              "                           tol=0.001, verbose=False),\n",
              "             iid='deprecated', n_jobs=None,\n",
              "             param_grid=[{'C': [1, 10, 100, 1000], 'kernel': ['linear']},\n",
              "                         {'C': [1, 10, 100, 1000], 'gamma': [0.001, 0.0001],\n",
              "                          'kernel': ['rbf']}],\n",
              "             pre_dispatch='2*n_jobs', refit=True, return_train_score=False,\n",
              "             scoring=None, verbose=0)"
            ]
          },
          "metadata": {
            "tags": []
          },
          "execution_count": 34
        },
        {
          "output_type": "stream",
          "text": [
            "time: 8min 32s (started: 2021-04-23 08:02:27 +00:00)\n"
          ],
          "name": "stdout"
        }
      ]
    },
    {
      "cell_type": "code",
      "metadata": {
        "id": "Ra7-IfhmpzIE",
        "colab": {
          "base_uri": "https://localhost:8080/"
        },
        "outputId": "377f0931-06e5-404a-e3a9-7ab0fd59eb2a"
      },
      "source": [
        "y_pred=clf.predict(x_test)\n",
        "y_pred"
      ],
      "execution_count": null,
      "outputs": [
        {
          "output_type": "execute_result",
          "data": {
            "text/plain": [
              "array([2, 2, 1, 0, 1, 0, 0, 1, 0, 0, 0, 0, 2, 0, 2, 2, 2, 1, 0, 1, 0, 0,\n",
              "       1, 2, 2, 0, 2, 2, 1, 1, 2, 0, 0, 1, 0, 1, 0, 2, 2, 2, 1, 0, 0, 2,\n",
              "       1, 1, 2, 2, 1, 0, 1, 1, 1, 0, 0, 2, 1, 2, 0, 0, 1, 0, 1, 1, 0, 1,\n",
              "       2, 1, 0, 2, 2, 0, 0, 0, 1, 1, 1, 2, 2, 2, 1, 0, 2, 0, 2, 0, 2, 2,\n",
              "       2, 2, 0, 2, 2, 2, 1, 2, 1, 0])"
            ]
          },
          "metadata": {
            "tags": []
          },
          "execution_count": 35
        },
        {
          "output_type": "stream",
          "text": [
            "time: 1.05 s (started: 2021-04-23 08:11:15 +00:00)\n"
          ],
          "name": "stdout"
        }
      ]
    },
    {
      "cell_type": "code",
      "metadata": {
        "id": "pVTE7HjLqlyS",
        "colab": {
          "base_uri": "https://localhost:8080/"
        },
        "outputId": "e073f31f-3d2d-49e6-9848-8adfe34201e1"
      },
      "source": [
        "y_test"
      ],
      "execution_count": null,
      "outputs": [
        {
          "output_type": "execute_result",
          "data": {
            "text/plain": [
              "array([2, 2, 1, 0, 1, 0, 0, 1, 0, 0, 0, 0, 2, 0, 2, 2, 2, 1, 1, 1, 0, 0,\n",
              "       1, 2, 2, 0, 2, 2, 1, 1, 2, 0, 0, 1, 0, 1, 0, 2, 2, 2, 1, 0, 0, 2,\n",
              "       1, 1, 2, 2, 1, 0, 1, 1, 1, 0, 0, 2, 1, 2, 0, 0, 1, 0, 1, 1, 0, 1,\n",
              "       2, 1, 0, 2, 1, 0, 0, 0, 1, 1, 1, 2, 2, 2, 1, 0, 2, 0, 2, 0, 2, 2,\n",
              "       2, 2, 0, 2, 2, 2, 1, 2, 1, 0])"
            ]
          },
          "metadata": {
            "tags": []
          },
          "execution_count": 36
        },
        {
          "output_type": "stream",
          "text": [
            "time: 8.23 ms (started: 2021-04-23 08:11:21 +00:00)\n"
          ],
          "name": "stdout"
        }
      ]
    },
    {
      "cell_type": "code",
      "metadata": {
        "id": "M-MaAdpJquFZ",
        "colab": {
          "base_uri": "https://localhost:8080/"
        },
        "outputId": "0f03eca8-de9c-4557-d554-5dc2b758726c"
      },
      "source": [
        "from sklearn.metrics import accuracy_score,confusion_matrix"
      ],
      "execution_count": null,
      "outputs": [
        {
          "output_type": "stream",
          "text": [
            "time: 1.71 ms (started: 2021-04-23 08:11:24 +00:00)\n"
          ],
          "name": "stdout"
        }
      ]
    },
    {
      "cell_type": "code",
      "metadata": {
        "id": "aOyObUHmq8LL",
        "colab": {
          "base_uri": "https://localhost:8080/"
        },
        "outputId": "a189d271-3033-4a5b-f586-185d088921df"
      },
      "source": [
        "accuracy_score(y_pred,y_test)"
      ],
      "execution_count": null,
      "outputs": [
        {
          "output_type": "execute_result",
          "data": {
            "text/plain": [
              "0.9795918367346939"
            ]
          },
          "metadata": {
            "tags": []
          },
          "execution_count": 38
        },
        {
          "output_type": "stream",
          "text": [
            "time: 7.13 ms (started: 2021-04-23 08:11:28 +00:00)\n"
          ],
          "name": "stdout"
        }
      ]
    },
    {
      "cell_type": "code",
      "metadata": {
        "id": "n9Wvd-4-rGGy",
        "colab": {
          "base_uri": "https://localhost:8080/"
        },
        "outputId": "a40f60ae-133d-490b-cc9b-4accd6815054"
      },
      "source": [
        "confusion_matrix(y_pred,y_test)"
      ],
      "execution_count": null,
      "outputs": [
        {
          "output_type": "execute_result",
          "data": {
            "text/plain": [
              "array([[33,  1,  0],\n",
              "       [ 0, 29,  0],\n",
              "       [ 0,  1, 34]])"
            ]
          },
          "metadata": {
            "tags": []
          },
          "execution_count": 39
        },
        {
          "output_type": "stream",
          "text": [
            "time: 9.59 ms (started: 2021-04-23 08:11:31 +00:00)\n"
          ],
          "name": "stdout"
        }
      ]
    },
    {
      "cell_type": "code",
      "metadata": {
        "id": "BqvSAaXGBqzj",
        "colab": {
          "base_uri": "https://localhost:8080/"
        },
        "outputId": "5b10d724-66b2-41fb-d6da-6cd7477baa16"
      },
      "source": [
        "#save model using pickle library\n",
        "import pickle\n",
        "pickle.dump(clf,open('img_model.p','wb'))"
      ],
      "execution_count": null,
      "outputs": [
        {
          "output_type": "stream",
          "text": [
            "time: 53.6 ms (started: 2021-04-23 08:11:36 +00:00)\n"
          ],
          "name": "stdout"
        }
      ]
    },
    {
      "cell_type": "code",
      "metadata": {
        "id": "PH30vB7yC4KN",
        "colab": {
          "base_uri": "https://localhost:8080/"
        },
        "outputId": "7ff62044-c50a-4dfd-a33f-f2c8efdec450"
      },
      "source": [
        "model=pickle.load(open('img_model.p','rb'))"
      ],
      "execution_count": null,
      "outputs": [
        {
          "output_type": "stream",
          "text": [
            "time: 30.1 ms (started: 2021-04-23 08:11:39 +00:00)\n"
          ],
          "name": "stdout"
        }
      ]
    },
    {
      "cell_type": "code",
      "metadata": {
        "id": "LJOBRCd5DD3w",
        "colab": {
          "base_uri": "https://localhost:8080/",
          "height": 336
        },
        "outputId": "fc7842b9-5ccd-4ce3-cc71-ad35645a35ec"
      },
      "source": [
        "#testing a brand new image\n",
        "flat_data=[]\n",
        "url=input('enter your url')\n",
        "img = imread(url)\n",
        "img_resized=resize(img,(150,150,3))\n",
        "flat_data.append(img_resized.flatten())\n",
        "flat_data=np.array(flat_data)\n",
        "print(img.shape)\n",
        "plt.imshow(img_resized)\n",
        "y_out=model.predict(flat_data)\n",
        "y_out=CATEGORIES[y_out[0]]\n",
        "print(f'PREDICTED OUTPUT:{y_out}')\n"
      ],
      "execution_count": null,
      "outputs": [
        {
          "output_type": "stream",
          "text": [
            "enter your urlhttps://encrypted-tbn0.gstatic.com/images?q=tbn:ANd9GcRIlCPwSa_elHxPdLqwsk9zpuXZUhQcBWkrZg&usqp=CAU\n",
            "(286, 176, 3)\n",
            "PREDICTED OUTPUT:ice cream cone\n"
          ],
          "name": "stdout"
        },
        {
          "output_type": "display_data",
          "data": {
            "image/png": "[encoded data removed]",
            "text/plain": [
              "<Figure size 432x288 with 1 Axes>"
            ]
          },
          "metadata": {
            "tags": [],
            "needs_background": "light"
          }
        },
        {
          "output_type": "stream",
          "text": [
            "time: 18 s (started: 2021-04-23 08:11:42 +00:00)\n"
          ],
          "name": "stdout"
        }
      ]
    },
    {
      "cell_type": "code",
      "metadata": {
        "id": "RWHac204a6Tf",
        "colab": {
          "base_uri": "https://localhost:8080/",
          "height": 1000
        },
        "outputId": "fe1790ef-7a39-4214-8966-0dfc1e674328"
      },
      "source": [
        "!pip install streamlit\n",
        "\n",
        "!pip install pyngrok\n",
        "from pyngrok import ngrok\n"
      ],
      "execution_count": null,
      "outputs": [
        {
          "output_type": "stream",
          "text": [
            "Collecting streamlit\n",
            "\u001b[?25l  Downloading https://files.pythonhosted.org/packages/d9/99/a8913c21bd07a14f72658a01784414ffecb380ddd0f9a127257314fea697/streamlit-0.80.0-py2.py3-none-any.whl (8.2MB)\n",
            "\u001b[K     |████████████████████████████████| 8.2MB 5.2MB/s \n",
            "\u001b[?25hRequirement already satisfied: astor in /usr/local/lib/python3.7/dist-packages (from streamlit) (0.8.1)\n",
            "Collecting watchdog; platform_system != \"Darwin\"\n",
            "\u001b[?25l  Downloading https://files.pythonhosted.org/packages/d2/b2/b4ebe23174fd00ec94ac3f58ebf85f1090c49858feab1ca62ed7ea4d2f2f/watchdog-2.0.3-py3-none-manylinux2014_x86_64.whl (74kB)\n",
            "\u001b[K     |████████████████████████████████| 81kB 7.3MB/s \n",
            "\u001b[?25hRequirement already satisfied: numpy in /usr/local/lib/python3.7/dist-packages (from streamlit) (1.19.5)\n",
            "Requirement already satisfied: protobuf!=3.11,>=3.6.0 in /usr/local/lib/python3.7/dist-packages (from streamlit) (3.12.4)\n",
            "Requirement already satisfied: tornado>=5.0 in /usr/local/lib/python3.7/dist-packages (from streamlit) (5.1.1)\n",
            "Requirement already satisfied: click>=7.0 in /usr/local/lib/python3.7/dist-packages (from streamlit) (7.1.2)\n",
            "Requirement already satisfied: altair>=3.2.0 in /usr/local/lib/python3.7/dist-packages (from streamlit) (4.1.0)\n",
            "Requirement already satisfied: packaging in /usr/local/lib/python3.7/dist-packages (from streamlit) (20.9)\n",
            "Requirement already satisfied: tzlocal in /usr/local/lib/python3.7/dist-packages (from streamlit) (1.5.1)\n",
            "Collecting pydeck>=0.1.dev5\n",
            "\u001b[?25l  Downloading https://files.pythonhosted.org/packages/d6/bc/f0e44828e4290367c869591d50d3671a4d0ee94926da6cb734b7b200308c/pydeck-0.6.2-py2.py3-none-any.whl (4.2MB)\n",
            "\u001b[K     |████████████████████████████████| 4.2MB 18.3MB/s \n",
            "\u001b[?25hRequirement already satisfied: pillow>=6.2.0 in /usr/local/lib/python3.7/dist-packages (from streamlit) (7.1.2)\n",
            "Collecting base58\n",
            "  Downloading https://files.pythonhosted.org/packages/b8/a1/d9f565e9910c09fd325dc638765e8843a19fa696275c16cc08cf3b0a3c25/base58-2.1.0-py3-none-any.whl\n",
            "Requirement already satisfied: pandas>=0.21.0 in /usr/local/lib/python3.7/dist-packages (from streamlit) (1.1.5)\n",
            "Requirement already satisfied: python-dateutil in /usr/local/lib/python3.7/dist-packages (from streamlit) (2.8.1)\n",
            "Requirement already satisfied: requests in /usr/local/lib/python3.7/dist-packages (from streamlit) (2.23.0)\n",
            "Requirement already satisfied: toml in /usr/local/lib/python3.7/dist-packages (from streamlit) (0.10.2)\n",
            "Requirement already satisfied: cachetools>=4.0 in /usr/local/lib/python3.7/dist-packages (from streamlit) (4.2.1)\n",
            "Requirement already satisfied: pyarrow; python_version < \"3.9\" in /usr/local/lib/python3.7/dist-packages (from streamlit) (3.0.0)\n",
            "Collecting blinker\n",
            "\u001b[?25l  Downloading https://files.pythonhosted.org/packages/1b/51/e2a9f3b757eb802f61dc1f2b09c8c99f6eb01cf06416c0671253536517b6/blinker-1.4.tar.gz (111kB)\n",
            "\u001b[K     |████████████████████████████████| 112kB 38.1MB/s \n",
            "\u001b[?25hCollecting gitpython\n",
            "\u001b[?25l  Downloading https://files.pythonhosted.org/packages/a6/99/98019716955ba243657daedd1de8f3a88ca1f5b75057c38e959db22fb87b/GitPython-3.1.14-py3-none-any.whl (159kB)\n",
            "\u001b[K     |████████████████████████████████| 163kB 42.6MB/s \n",
            "\u001b[?25hCollecting validators\n",
            "  Downloading https://files.pythonhosted.org/packages/db/2f/7fed3ee94ad665ad2c1de87f858f10a7785251ff75b4fd47987888d07ef1/validators-0.18.2-py3-none-any.whl\n",
            "Requirement already satisfied: six>=1.9 in /usr/local/lib/python3.7/dist-packages (from protobuf!=3.11,>=3.6.0->streamlit) (1.15.0)\n",
            "Requirement already satisfied: setuptools in /usr/local/lib/python3.7/dist-packages (from protobuf!=3.11,>=3.6.0->streamlit) (56.0.0)\n",
            "Requirement already satisfied: toolz in /usr/local/lib/python3.7/dist-packages (from altair>=3.2.0->streamlit) (0.11.1)\n",
            "Requirement already satisfied: entrypoints in /usr/local/lib/python3.7/dist-packages (from altair>=3.2.0->streamlit) (0.3)\n",
            "Requirement already satisfied: jsonschema in /usr/local/lib/python3.7/dist-packages (from altair>=3.2.0->streamlit) (2.6.0)\n",
            "Requirement already satisfied: jinja2 in /usr/local/lib/python3.7/dist-packages (from altair>=3.2.0->streamlit) (2.11.3)\n",
            "Requirement already satisfied: pyparsing>=2.0.2 in /usr/local/lib/python3.7/dist-packages (from packaging->streamlit) (2.4.7)\n",
            "Requirement already satisfied: pytz in /usr/local/lib/python3.7/dist-packages (from tzlocal->streamlit) (2018.9)\n",
            "Requirement already satisfied: ipywidgets>=7.0.0 in /usr/local/lib/python3.7/dist-packages (from pydeck>=0.1.dev5->streamlit) (7.6.3)\n",
            "Requirement already satisfied: traitlets>=4.3.2 in /usr/local/lib/python3.7/dist-packages (from pydeck>=0.1.dev5->streamlit) (5.0.5)\n",
            "Collecting ipykernel>=5.1.2; python_version >= \"3.4\"\n",
            "\u001b[?25l  Downloading https://files.pythonhosted.org/packages/3a/7d/9f8ac1b1b76f2f1538b5650f0b5636bae082724b1e06939a3a9d38e1380e/ipykernel-5.5.3-py3-none-any.whl (120kB)\n",
            "\u001b[K     |████████████████████████████████| 122kB 46.7MB/s \n",
            "\u001b[?25hRequirement already satisfied: certifi>=2017.4.17 in /usr/local/lib/python3.7/dist-packages (from requests->streamlit) (2020.12.5)\n",
            "Requirement already satisfied: chardet<4,>=3.0.2 in /usr/local/lib/python3.7/dist-packages (from requests->streamlit) (3.0.4)\n",
            "Requirement already satisfied: idna<3,>=2.5 in /usr/local/lib/python3.7/dist-packages (from requests->streamlit) (2.10)\n",
            "Requirement already satisfied: urllib3!=1.25.0,!=1.25.1,<1.26,>=1.21.1 in /usr/local/lib/python3.7/dist-packages (from requests->streamlit) (1.24.3)\n",
            "Collecting gitdb<5,>=4.0.1\n",
            "\u001b[?25l  Downloading https://files.pythonhosted.org/packages/ea/e8/f414d1a4f0bbc668ed441f74f44c116d9816833a48bf81d22b697090dba8/gitdb-4.0.7-py3-none-any.whl (63kB)\n",
            "\u001b[K     |████████████████████████████████| 71kB 6.5MB/s \n",
            "\u001b[?25hRequirement already satisfied: decorator>=3.4.0 in /usr/local/lib/python3.7/dist-packages (from validators->streamlit) (4.4.2)\n",
            "Requirement already satisfied: MarkupSafe>=0.23 in /usr/local/lib/python3.7/dist-packages (from jinja2->altair>=3.2.0->streamlit) (1.1.1)\n",
            "Requirement already satisfied: ipython>=4.0.0; python_version >= \"3.3\" in /usr/local/lib/python3.7/dist-packages (from ipywidgets>=7.0.0->pydeck>=0.1.dev5->streamlit) (5.5.0)\n",
            "Requirement already satisfied: widgetsnbextension~=3.5.0 in /usr/local/lib/python3.7/dist-packages (from ipywidgets>=7.0.0->pydeck>=0.1.dev5->streamlit) (3.5.1)\n",
            "Requirement already satisfied: nbformat>=4.2.0 in /usr/local/lib/python3.7/dist-packages (from ipywidgets>=7.0.0->pydeck>=0.1.dev5->streamlit) (5.1.3)\n",
            "Requirement already satisfied: jupyterlab-widgets>=1.0.0; python_version >= \"3.6\" in /usr/local/lib/python3.7/dist-packages (from ipywidgets>=7.0.0->pydeck>=0.1.dev5->streamlit) (1.0.0)\n",
            "Requirement already satisfied: ipython-genutils in /usr/local/lib/python3.7/dist-packages (from traitlets>=4.3.2->pydeck>=0.1.dev5->streamlit) (0.2.0)\n",
            "Requirement already satisfied: jupyter-client in /usr/local/lib/python3.7/dist-packages (from ipykernel>=5.1.2; python_version >= \"3.4\"->pydeck>=0.1.dev5->streamlit) (5.3.5)\n",
            "Collecting smmap<5,>=3.0.1\n",
            "  Downloading https://files.pythonhosted.org/packages/68/ee/d540eb5e5996eb81c26ceffac6ee49041d473bc5125f2aa995cf51ec1cf1/smmap-4.0.0-py2.py3-none-any.whl\n",
            "Requirement already satisfied: pickleshare in /usr/local/lib/python3.7/dist-packages (from ipython>=4.0.0; python_version >= \"3.3\"->ipywidgets>=7.0.0->pydeck>=0.1.dev5->streamlit) (0.7.5)\n",
            "Requirement already satisfied: prompt-toolkit<2.0.0,>=1.0.4 in /usr/local/lib/python3.7/dist-packages (from ipython>=4.0.0; python_version >= \"3.3\"->ipywidgets>=7.0.0->pydeck>=0.1.dev5->streamlit) (1.0.18)\n",
            "Requirement already satisfied: simplegeneric>0.8 in /usr/local/lib/python3.7/dist-packages (from ipython>=4.0.0; python_version >= \"3.3\"->ipywidgets>=7.0.0->pydeck>=0.1.dev5->streamlit) (0.8.1)\n",
            "Requirement already satisfied: pygments in /usr/local/lib/python3.7/dist-packages (from ipython>=4.0.0; python_version >= \"3.3\"->ipywidgets>=7.0.0->pydeck>=0.1.dev5->streamlit) (2.6.1)\n",
            "Requirement already satisfied: pexpect; sys_platform != \"win32\" in /usr/local/lib/python3.7/dist-packages (from ipython>=4.0.0; python_version >= \"3.3\"->ipywidgets>=7.0.0->pydeck>=0.1.dev5->streamlit) (4.8.0)\n",
            "Requirement already satisfied: notebook>=4.4.1 in /usr/local/lib/python3.7/dist-packages (from widgetsnbextension~=3.5.0->ipywidgets>=7.0.0->pydeck>=0.1.dev5->streamlit) (5.3.1)\n",
            "Requirement already satisfied: jupyter-core in /usr/local/lib/python3.7/dist-packages (from nbformat>=4.2.0->ipywidgets>=7.0.0->pydeck>=0.1.dev5->streamlit) (4.7.1)\n",
            "Requirement already satisfied: pyzmq>=13 in /usr/local/lib/python3.7/dist-packages (from jupyter-client->ipykernel>=5.1.2; python_version >= \"3.4\"->pydeck>=0.1.dev5->streamlit) (22.0.3)\n",
            "Requirement already satisfied: wcwidth in /usr/local/lib/python3.7/dist-packages (from prompt-toolkit<2.0.0,>=1.0.4->ipython>=4.0.0; python_version >= \"3.3\"->ipywidgets>=7.0.0->pydeck>=0.1.dev5->streamlit) (0.2.5)\n",
            "Requirement already satisfied: ptyprocess>=0.5 in /usr/local/lib/python3.7/dist-packages (from pexpect; sys_platform != \"win32\"->ipython>=4.0.0; python_version >= \"3.3\"->ipywidgets>=7.0.0->pydeck>=0.1.dev5->streamlit) (0.7.0)\n",
            "Requirement already satisfied: nbconvert in /usr/local/lib/python3.7/dist-packages (from notebook>=4.4.1->widgetsnbextension~=3.5.0->ipywidgets>=7.0.0->pydeck>=0.1.dev5->streamlit) (5.6.1)\n",
            "Requirement already satisfied: Send2Trash in /usr/local/lib/python3.7/dist-packages (from notebook>=4.4.1->widgetsnbextension~=3.5.0->ipywidgets>=7.0.0->pydeck>=0.1.dev5->streamlit) (1.5.0)\n",
            "Requirement already satisfied: terminado>=0.8.1 in /usr/local/lib/python3.7/dist-packages (from notebook>=4.4.1->widgetsnbextension~=3.5.0->ipywidgets>=7.0.0->pydeck>=0.1.dev5->streamlit) (0.9.4)\n",
            "Requirement already satisfied: defusedxml in /usr/local/lib/python3.7/dist-packages (from nbconvert->notebook>=4.4.1->widgetsnbextension~=3.5.0->ipywidgets>=7.0.0->pydeck>=0.1.dev5->streamlit) (0.7.1)\n",
            "Requirement already satisfied: bleach in /usr/local/lib/python3.7/dist-packages (from nbconvert->notebook>=4.4.1->widgetsnbextension~=3.5.0->ipywidgets>=7.0.0->pydeck>=0.1.dev5->streamlit) (3.3.0)\n",
            "Requirement already satisfied: testpath in /usr/local/lib/python3.7/dist-packages (from nbconvert->notebook>=4.4.1->widgetsnbextension~=3.5.0->ipywidgets>=7.0.0->pydeck>=0.1.dev5->streamlit) (0.4.4)\n",
            "Requirement already satisfied: mistune<2,>=0.8.1 in /usr/local/lib/python3.7/dist-packages (from nbconvert->notebook>=4.4.1->widgetsnbextension~=3.5.0->ipywidgets>=7.0.0->pydeck>=0.1.dev5->streamlit) (0.8.4)\n",
            "Requirement already satisfied: pandocfilters>=1.4.1 in /usr/local/lib/python3.7/dist-packages (from nbconvert->notebook>=4.4.1->widgetsnbextension~=3.5.0->ipywidgets>=7.0.0->pydeck>=0.1.dev5->streamlit) (1.4.3)\n",
            "Requirement already satisfied: webencodings in /usr/local/lib/python3.7/dist-packages (from bleach->nbconvert->notebook>=4.4.1->widgetsnbextension~=3.5.0->ipywidgets>=7.0.0->pydeck>=0.1.dev5->streamlit) (0.5.1)\n",
            "Building wheels for collected packages: blinker\n",
            "  Building wheel for blinker (setup.py) ... \u001b[?25l\u001b[?25hdone\n",
            "  Created wheel for blinker: filename=blinker-1.4-cp37-none-any.whl size=13448 sha256=c14d93ff506bc47881e293fd520c2e7a03e58c8fcd30208ae1b07bdb99cb8c02\n",
            "  Stored in directory: /root/.cache/pip/wheels/92/a0/00/8690a57883956a301d91cf4ec999cc0b258b01e3f548f86e89\n",
            "Successfully built blinker\n",
            "\u001b[31mERROR: google-colab 1.0.0 has requirement ipykernel~=4.10, but you'll have ipykernel 5.5.3 which is incompatible.\u001b[0m\n",
            "Installing collected packages: watchdog, ipykernel, pydeck, base58, blinker, smmap, gitdb, gitpython, validators, streamlit\n",
            "  Found existing installation: ipykernel 4.10.1\n",
            "    Uninstalling ipykernel-4.10.1:\n",
            "      Successfully uninstalled ipykernel-4.10.1\n",
            "Successfully installed base58-2.1.0 blinker-1.4 gitdb-4.0.7 gitpython-3.1.14 ipykernel-5.5.3 pydeck-0.6.2 smmap-4.0.0 streamlit-0.80.0 validators-0.18.2 watchdog-2.0.3\n"
          ],
          "name": "stdout"
        },
        {
          "output_type": "display_data",
          "data": {
            "application/vnd.colab-display-data+json": {
              "pip_warning": {
                "packages": [
                  "ipykernel"
                ]
              }
            }
          },
          "metadata": {
            "tags": []
          }
        },
        {
          "output_type": "stream",
          "text": [
            "Collecting pyngrok\n",
            "\u001b[?25l  Downloading https://files.pythonhosted.org/packages/6b/4e/a2fe095bbe17cf26424c4abcd22a0490e22d01cc628f25af5e220ddbf6f0/pyngrok-5.0.5.tar.gz (745kB)\n",
            "\r\u001b[K     |▍                               | 10kB 16.2MB/s eta 0:00:01\r\u001b[K     |▉                               | 20kB 12.3MB/s eta 0:00:01\r\u001b[K     |█▎                              | 30kB 8.9MB/s eta 0:00:01\r\u001b[K     |█▊                              | 40kB 7.7MB/s eta 0:00:01\r\u001b[K     |██▏                             | 51kB 4.4MB/s eta 0:00:01\r\u001b[K     |██▋                             | 61kB 4.6MB/s eta 0:00:01\r\u001b[K     |███                             | 71kB 5.0MB/s eta 0:00:01\r\u001b[K     |███▌                            | 81kB 5.3MB/s eta 0:00:01\r\u001b[K     |████                            | 92kB 5.2MB/s eta 0:00:01\r\u001b[K     |████▍                           | 102kB 5.7MB/s eta 0:00:01\r\u001b[K     |████▉                           | 112kB 5.7MB/s eta 0:00:01\r\u001b[K     |█████▎                          | 122kB 5.7MB/s eta 0:00:01\r\u001b[K     |█████▊                          | 133kB 5.7MB/s eta 0:00:01\r\u001b[K     |██████▏                         | 143kB 5.7MB/s eta 0:00:01\r\u001b[K     |██████▋                         | 153kB 5.7MB/s eta 0:00:01\r\u001b[K     |███████                         | 163kB 5.7MB/s eta 0:00:01\r\u001b[K     |███████▌                        | 174kB 5.7MB/s eta 0:00:01\r\u001b[K     |████████                        | 184kB 5.7MB/s eta 0:00:01\r\u001b[K     |████████▍                       | 194kB 5.7MB/s eta 0:00:01\r\u001b[K     |████████▉                       | 204kB 5.7MB/s eta 0:00:01\r\u001b[K     |█████████▎                      | 215kB 5.7MB/s eta 0:00:01\r\u001b[K     |█████████▊                      | 225kB 5.7MB/s eta 0:00:01\r\u001b[K     |██████████▏                     | 235kB 5.7MB/s eta 0:00:01\r\u001b[K     |██████████▌                     | 245kB 5.7MB/s eta 0:00:01\r\u001b[K     |███████████                     | 256kB 5.7MB/s eta 0:00:01\r\u001b[K     |███████████▍                    | 266kB 5.7MB/s eta 0:00:01\r\u001b[K     |███████████▉                    | 276kB 5.7MB/s eta 0:00:01\r\u001b[K     |████████████▎                   | 286kB 5.7MB/s eta 0:00:01\r\u001b[K     |████████████▊                   | 296kB 5.7MB/s eta 0:00:01\r\u001b[K     |█████████████▏                  | 307kB 5.7MB/s eta 0:00:01\r\u001b[K     |█████████████▋                  | 317kB 5.7MB/s eta 0:00:01\r\u001b[K     |██████████████                  | 327kB 5.7MB/s eta 0:00:01\r\u001b[K     |██████████████▌                 | 337kB 5.7MB/s eta 0:00:01\r\u001b[K     |███████████████                 | 348kB 5.7MB/s eta 0:00:01\r\u001b[K     |███████████████▍                | 358kB 5.7MB/s eta 0:00:01\r\u001b[K     |███████████████▉                | 368kB 5.7MB/s eta 0:00:01\r\u001b[K     |████████████████▎               | 378kB 5.7MB/s eta 0:00:01\r\u001b[K     |████████████████▊               | 389kB 5.7MB/s eta 0:00:01\r\u001b[K     |█████████████████▏              | 399kB 5.7MB/s eta 0:00:01\r\u001b[K     |█████████████████▋              | 409kB 5.7MB/s eta 0:00:01\r\u001b[K     |██████████████████              | 419kB 5.7MB/s eta 0:00:01\r\u001b[K     |██████████████████▌             | 430kB 5.7MB/s eta 0:00:01\r\u001b[K     |███████████████████             | 440kB 5.7MB/s eta 0:00:01\r\u001b[K     |███████████████████▍            | 450kB 5.7MB/s eta 0:00:01\r\u001b[K     |███████████████████▉            | 460kB 5.7MB/s eta 0:00:01\r\u001b[K     |████████████████████▎           | 471kB 5.7MB/s eta 0:00:01\r\u001b[K     |████████████████████▊           | 481kB 5.7MB/s eta 0:00:01\r\u001b[K     |█████████████████████           | 491kB 5.7MB/s eta 0:00:01\r\u001b[K     |█████████████████████▌          | 501kB 5.7MB/s eta 0:00:01\r\u001b[K     |██████████████████████          | 512kB 5.7MB/s eta 0:00:01\r\u001b[K     |██████████████████████▍         | 522kB 5.7MB/s eta 0:00:01\r\u001b[K     |██████████████████████▉         | 532kB 5.7MB/s eta 0:00:01\r\u001b[K     |███████████████████████▎        | 542kB 5.7MB/s eta 0:00:01\r\u001b[K     |███████████████████████▊        | 552kB 5.7MB/s eta 0:00:01\r\u001b[K     |████████████████████████▏       | 563kB 5.7MB/s eta 0:00:01\r\u001b[K     |████████████████████████▋       | 573kB 5.7MB/s eta 0:00:01\r\u001b[K     |█████████████████████████       | 583kB 5.7MB/s eta 0:00:01\r\u001b[K     |█████████████████████████▌      | 593kB 5.7MB/s eta 0:00:01\r\u001b[K     |██████████████████████████      | 604kB 5.7MB/s eta 0:00:01\r\u001b[K     |██████████████████████████▍     | 614kB 5.7MB/s eta 0:00:01\r\u001b[K     |██████████████████████████▉     | 624kB 5.7MB/s eta 0:00:01\r\u001b[K     |███████████████████████████▎    | 634kB 5.7MB/s eta 0:00:01\r\u001b[K     |███████████████████████████▊    | 645kB 5.7MB/s eta 0:00:01\r\u001b[K     |████████████████████████████▏   | 655kB 5.7MB/s eta 0:00:01\r\u001b[K     |████████████████████████████▋   | 665kB 5.7MB/s eta 0:00:01\r\u001b[K     |█████████████████████████████   | 675kB 5.7MB/s eta 0:00:01\r\u001b[K     |█████████████████████████████▌  | 686kB 5.7MB/s eta 0:00:01\r\u001b[K     |██████████████████████████████  | 696kB 5.7MB/s eta 0:00:01\r\u001b[K     |██████████████████████████████▍ | 706kB 5.7MB/s eta 0:00:01\r\u001b[K     |██████████████████████████████▉ | 716kB 5.7MB/s eta 0:00:01\r\u001b[K     |███████████████████████████████▏| 727kB 5.7MB/s eta 0:00:01\r\u001b[K     |███████████████████████████████▋| 737kB 5.7MB/s eta 0:00:01\r\u001b[K     |████████████████████████████████| 747kB 5.7MB/s \n",
            "\u001b[?25hRequirement already satisfied: PyYAML in /usr/local/lib/python3.7/dist-packages (from pyngrok) (3.13)\n",
            "Building wheels for collected packages: pyngrok\n",
            "  Building wheel for pyngrok (setup.py) ... \u001b[?25l\u001b[?25hdone\n",
            "  Created wheel for pyngrok: filename=pyngrok-5.0.5-cp37-none-any.whl size=19246 sha256=7525c9b02f90ec47cc04500b54537b6e2e4f680d23529eb35e24de7558e87923\n",
            "  Stored in directory: /root/.cache/pip/wheels/0c/13/64/5ebbcc22eaf53fdf5766b397c1fb17c83f5775fdccf0ea1b88\n",
            "Successfully built pyngrok\n",
            "Installing collected packages: pyngrok\n",
            "Successfully installed pyngrok-5.0.5\n",
            "time: 18.7 s (started: 2021-04-23 08:12:08 +00:00)\n"
          ],
          "name": "stdout"
        }
      ]
    },
    {
      "cell_type": "code",
      "metadata": {
        "id": "SEReHK4tmV_m"
      },
      "source": [
        ""
      ],
      "execution_count": null,
      "outputs": []
    },
    {
      "cell_type": "code",
      "metadata": {
        "id": "Fy5vZrVsbIZS",
        "colab": {
          "base_uri": "https://localhost:8080/"
        },
        "outputId": "3f0b9eeb-a010-4be2-df17-730fc9973645"
      },
      "source": [
        "#deployment:(optional)\n",
        "%%writefile app.py\n",
        "import numpy as np\n",
        "from skimage.io import imread \n",
        "from skimage.transform import resize\n",
        "import streamlit as st\n",
        "import pickle from PIL import image\n",
        "st.set_option('deprecation.showfileUploaderEncoding',False)\n",
        "st.title('Image Classifier')\n",
        "st.text('upload image')\n",
        "\n",
        "model=pickle.load(open('img_model.p','rb'))\n",
        "\n",
        "uploaded_file=st.file_uploader(\"choose an image...\",type\"jpg\")\n",
        "if uploaded_file is not None:\n",
        "  img=Image.open(uploaded_file)\n",
        "  st.image(img,caption='Uploaded Image')\n",
        "\n",
        "\n",
        "  if st.button('PREDICT')\n",
        "   CATEGORIES=['apple fruit','pretty sunflower','ice cream cone']\n",
        "   st.write('Result..')\n",
        "   flat_data=[]\n",
        "   img=np.array(img)\n",
        "   img_resized=resize(img,(150,150,3))\n",
        "   flat_data.append(img_resized.flatten())\n",
        "   flat_data=np.array(flat_data)\n",
        "   st.write(img.shape)\n",
        "   y_out=model.predict(flat_data)\n",
        "   y_out=CATEGORIES[y_out[0]]\n",
        "   st.title(f'PREDICTED OUTPUT:{y_out}')"
      ],
      "execution_count": null,
      "outputs": [
        {
          "output_type": "stream",
          "text": [
            "Writing app.py\n",
            "time: 6.06 ms (started: 2021-04-23 08:12:29 +00:00)\n"
          ],
          "name": "stdout"
        }
      ]
    },
    {
      "cell_type": "code",
      "metadata": {
        "id": "q-SwSO7zc70W",
        "colab": {
          "base_uri": "https://localhost:8080/"
        },
        "outputId": "b2b31c9a-4a47-43c2-f462-26a7bdb6daeb"
      },
      "source": [
        "!nohup streamlit run app.py\n",
        "\n",
        "url=ngrok.connect(port='8501')\n",
        "url"
      ],
      "execution_count": null,
      "outputs": [
        {
          "output_type": "stream",
          "text": [
            "nohup: ignoring input and appending output to 'nohup.out'\n"
          ],
          "name": "stdout"
        },
        {
          "output_type": "execute_result",
          "data": {
            "text/plain": [
              "<NgrokTunnel: \"http://485bd308341d.ngrok.io\" -> \"http://localhost:80\">"
            ]
          },
          "metadata": {
            "tags": []
          },
          "execution_count": 46
        },
        {
          "output_type": "stream",
          "text": [
            "time: 9.41 s (started: 2021-04-23 08:19:22 +00:00)\n"
          ],
          "name": "stdout"
        }
      ]
    },
    {
      "cell_type": "code",
      "metadata": {
        "id": "DOOBAh06jmiZ"
      },
      "source": [
        "\n"
      ],
      "execution_count": null,
      "outputs": []
    },
    {
      "cell_type": "code",
      "metadata": {
        "id": "6ijyfkGPl4Ca"
      },
      "source": [
        ""
      ],
      "execution_count": null,
      "outputs": []
    }
  ]
}